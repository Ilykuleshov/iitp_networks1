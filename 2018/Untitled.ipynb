{
 "cells": [
  {
   "cell_type": "code",
   "execution_count": 1,
   "id": "34b68905",
   "metadata": {},
   "outputs": [],
   "source": [
    "from sklearn.metrics import adjusted_rand_score"
   ]
  },
  {
   "cell_type": "code",
   "execution_count": 2,
   "id": "d09b4cf4",
   "metadata": {},
   "outputs": [
    {
     "data": {
      "text/plain": [
       "2278.0"
      ]
     },
     "execution_count": 2,
     "metadata": {},
     "output_type": "execute_result"
    }
   ],
   "source": [
    "68*67/2"
   ]
  },
  {
   "cell_type": "code",
   "execution_count": 16,
   "id": "7efa80a5",
   "metadata": {},
   "outputs": [],
   "source": [
    "def rand(a, b):\n",
    "    n = 68\n",
    "    index = 0\n",
    "    for i in range(n):\n",
    "        for j in range(i, n):\n",
    "            if a[i] == a[j] and b[i] == b[j]:\n",
    "                index += 1\n",
    "            elif a[i] != a[j] and b[i] != b[j]:\n",
    "                index += 1\n",
    "    return index / (n*(n-1)/2)"
   ]
  },
  {
   "cell_type": "code",
   "execution_count": 6,
   "id": "75f65a8e",
   "metadata": {},
   "outputs": [],
   "source": [
    "import numpy as np"
   ]
  },
  {
   "cell_type": "code",
   "execution_count": 13,
   "id": "ef73d03c",
   "metadata": {},
   "outputs": [],
   "source": [
    "from tqdm import tqdm"
   ]
  },
  {
   "cell_type": "code",
   "execution_count": 23,
   "id": "babf35b0",
   "metadata": {},
   "outputs": [
    {
     "name": "stderr",
     "output_type": "stream",
     "text": [
      "100%|██████████| 100/100 [00:00<00:00, 564.82it/s]\n"
     ]
    }
   ],
   "source": [
    "a = np.random.randint(0, 2, 68)\n",
    "b = a.copy()\n",
    "index = np.arange(68)\n",
    "ari=[]\n",
    "ri = []\n",
    "\n",
    "for i in tqdm(range(100)):\n",
    "    np.random.shuffle(index)\n",
    "    j = index[0]\n",
    "    b[j] = (b[j] + 1) % 2\n",
    "    \n",
    "    ari.append(adjusted_rand_score(a,b))\n",
    "    ri.append(rand(a,b))"
   ]
  },
  {
   "cell_type": "code",
   "execution_count": 12,
   "id": "de982d0a",
   "metadata": {},
   "outputs": [
    {
     "data": {
      "text/plain": [
       "0"
      ]
     },
     "execution_count": 12,
     "metadata": {},
     "output_type": "execute_result"
    }
   ],
   "source": [
    "(1 + 1) % 2"
   ]
  },
  {
   "cell_type": "code",
   "execution_count": 18,
   "id": "1d92ad3e",
   "metadata": {},
   "outputs": [],
   "source": [
    "import matplotlib.pyplot as plt\n",
    "%matplotlib inline"
   ]
  },
  {
   "cell_type": "code",
   "execution_count": 30,
   "id": "160b6964",
   "metadata": {},
   "outputs": [
    {
     "data": {
      "image/png": "[encoded data removed]",
      "text/plain": [
       "<Figure size 432x288 with 1 Axes>"
      ]
     },
     "metadata": {
      "needs_background": "light"
     },
     "output_type": "display_data"
    }
   ],
   "source": [
    "plt.scatter(ri, ari);\n",
    "plt.yticks([0, 0.1, 0.2, 0.3, 0.4, 0.5, 0.6, 0.7, 0.8, 0.9, 1.0])\n",
    "plt.hlines(0.7, 0.5, 1)\n",
    "plt.vlines(0.9, 0, 1)\n",
    "plt.xlabel('Rand Index')\n",
    "plt.ylabel('Adjusted Rand Index');\n",
    "plt.title('Comparison of RI and ARI for\\nrandom colorings of 68 Objects');"
   ]
  },
  {
   "cell_type": "code",
   "execution_count": null,
   "id": "347b92de",
   "metadata": {},
   "outputs": [],
   "source": []
  }
 ],
 "metadata": {
  "kernelspec": {
   "display_name": "Python 3",
   "language": "python",
   "name": "python3"
  },
  "language_info": {
   "codemirror_mode": {
    "name": "ipython",
    "version": 3
   },
   "file_extension": ".py",
   "mimetype": "text/x-python",
   "name": "python",
   "nbconvert_exporter": "python",
   "pygments_lexer": "ipython3",
   "version": "3.8.8"
  }
 },
 "nbformat": 4,
 "nbformat_minor": 5
}
