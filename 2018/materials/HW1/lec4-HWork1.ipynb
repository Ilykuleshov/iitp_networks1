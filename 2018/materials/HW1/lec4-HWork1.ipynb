{
 "cells": [
  {
   "cell_type": "code",
   "execution_count": null,
   "metadata": {},
   "outputs": [],
   "source": [
    "import numpy as np\n",
    "import pandas as pd\n",
    "import networkx as nx\n",
    "\n",
    "import matplotlib.pyplot as plt\n",
    "%matplotlib inline\n",
    "\n",
    "# import igraph\n",
    "# import community"
   ]
  },
  {
   "cell_type": "markdown",
   "metadata": {},
   "source": [
    "План на сегодня (остальное идет в качестве Домашней работы):\n",
    "\n",
    "\n",
    "1. Power law distribution\n",
    "    - Generate power law distribution   (4)\n",
    "    - Plot power law, PDF, CDF          (4)\n",
    "    - Plot power law in log-log scale   (4)\n",
    "    - Estimate alpha (slope) using simple linear regression (4) \n",
    "    - Plot empirical PDF/CDF vs Theoretical with estimated alpha (4)\n",
    "2. ITaS network analysis\n",
    "    - Analyse simple network properties (#vertices, #edges, #connected components) (4)\n",
    "    - Plot degree distribution  (4)\n",
    "    - Does power law holds for these networks? Plot log-log, estimate alpha (4)\n",
    "    - Plot/compute radius (distribution and against degree), diameter, shortest path distribution (4)\n",
    "    - Compute centrality measures (degree, closeness, betweenness, eigenvector), plot comparison figures.  (4)\n",
    "3. Download your VK egocentric network (different types 0-1-2-levels could be time consuming)\n",
    "    - Analyse simple network properties (#vertices, #edges, #connected components) (4)\n",
    "    - Plot degree distribution, does power law hold for your network? (4)\n",
    "    - Compute centrality measures for your network (degree, closeness, betweenness, eigenvector),\n",
    "      interpret the ranking results (4)\n",
    "    - Using different layouts plot you network, use different node characteristics as node size/color\n",
    "      (you could also download meta data: gender, age, city) (4)\n",
    "    - *Find network communities using either igraph or community package, analyse the results (10)\n",
    "4. Имплементируйте модели случайных графов которые наилучшим образом описывают различные характеристики\n",
    "   вашей социальной сети, используйте разные модели для моделирования разных характеристик.\n",
    "   - Preferential attachement (to model power law distr.) (5)\n",
    "   - Configuration model (to model degree sequence) (10)\n",
    "   - Stochastic-block model (to model community structure) (10)\n",
    "   - Compare different model with your own network (using different characteristics), which model describe your network best? (10)\n",
    "   \n",
    "   \n",
    "Total 101/100\n",
    " "
   ]
  },
  {
   "cell_type": "markdown",
   "metadata": {},
   "source": [
    "# 1. Power law"
   ]
  },
  {
   "cell_type": "markdown",
   "metadata": {},
   "source": [
    "    1. Generate 10000 uniformly distributed pseudorandom numbers.\n",
    "    2. Produce power law\n",
    "    3. Generate power law distribution\n",
    "    4. Plot power law, PDF, CDF\n",
    "    5. Plot power law in log-log scale\n",
    "    6. Estimate alpha (slope) using simple linear regression \n",
    "    7. Plot empirical PDF vs Theoretical with estimated alpha"
   ]
  },
  {
   "cell_type": "code",
   "execution_count": null,
   "metadata": {
    "collapsed": true
   },
   "outputs": [],
   "source": []
  },
  {
   "cell_type": "code",
   "execution_count": null,
   "metadata": {
    "collapsed": true
   },
   "outputs": [],
   "source": []
  },
  {
   "cell_type": "markdown",
   "metadata": {},
   "source": [
    "# 2. ITaS network"
   ]
  },
  {
   "cell_type": "code",
   "execution_count": null,
   "metadata": {
    "collapsed": true
   },
   "outputs": [],
   "source": [
    "from utils import get_coauthors"
   ]
  },
  {
   "cell_type": "code",
   "execution_count": null,
   "metadata": {
    "collapsed": true
   },
   "outputs": [],
   "source": [
    "fname = './itas_2009-2017_v8.xls'\n",
    "\n",
    "itas_all = pd.read_excel(fname)\n",
    "\n",
    "adj, names, n_papers = get_coauthors(itas_all)\n",
    "nx_graph = nx.Graph(adj)"
   ]
  },
  {
   "cell_type": "raw",
   "metadata": {},
   "source": [
    "3. Analyse simple network properties (#vertices, #edges, #connected components) (4)\n",
    "4. Plot degree distribution  (4)\n",
    "5. Does power law holds for these networks? Plot log-log, estimate alpha (4)\n",
    "6. Plot/compute radius (distribution and against degree), diameter, shortest path distribution (4)\n",
    "7. Compute centrality measures (degree, closeness, betweenness, eigenvector), plot comparison figures.  (4)"
   ]
  },
  {
   "cell_type": "code",
   "execution_count": null,
   "metadata": {
    "collapsed": true
   },
   "outputs": [],
   "source": []
  },
  {
   "cell_type": "code",
   "execution_count": null,
   "metadata": {
    "collapsed": true
   },
   "outputs": [],
   "source": []
  },
  {
   "cell_type": "code",
   "execution_count": null,
   "metadata": {
    "collapsed": true
   },
   "outputs": [],
   "source": []
  },
  {
   "cell_type": "markdown",
   "metadata": {},
   "source": [
    "# 3. VK network analysis"
   ]
  },
  {
   "cell_type": "markdown",
   "metadata": {},
   "source": [
    "1. You need to get access token, go here https://vk.com/dev and create stand alone application\n",
    "2. Find your application id and go here (put your application id):\n",
    "\n",
    "https://oauth.vk.com/authorize?client_id=APPLICATION_ID&\n",
    "scope=photos,audio,video,docs,notes,pages,status,offers,questions\n",
    ",wall,groups,messages,email,notifications,stats,ads,offline\n",
    ",docs,pages,stats,notifications&response_type=token\n",
    "\n",
    "last digits will be your access token.\n",
    "\n",
    "e.g. access_token = '-----a4e013b3a92c----a032071d81f---e0e2595dab---d3a3559cc---a52ffbef---e91cf9be6e'\n",
    "(I ommit some symbols, get your own access token)\n",
    "\n",
    "3. List of api methods https://vk.com/dev/methods\n",
    "4. We will mainly use friends.get and users.get"
   ]
  },
  {
   "cell_type": "code",
   "execution_count": null,
   "metadata": {
    "collapsed": true
   },
   "outputs": [],
   "source": [
    "import requests\n",
    "import time\n",
    "\n",
    "from tqdm import tqdm_notebook"
   ]
  },
  {
   "cell_type": "code",
   "execution_count": null,
   "metadata": {
    "collapsed": true
   },
   "outputs": [],
   "source": [
    "from utils import get_friends_ids"
   ]
  },
  {
   "cell_type": "code",
   "execution_count": null,
   "metadata": {
    "collapsed": true
   },
   "outputs": [],
   "source": [
    "user_id = 11986950\n",
    "access_token = "
   ]
  },
  {
   "cell_type": "code",
   "execution_count": null,
   "metadata": {
    "collapsed": true
   },
   "outputs": [],
   "source": [
    "ego_friends, url = get_friends_ids(user_id, access_token)"
   ]
  },
  {
   "cell_type": "code",
   "execution_count": null,
   "metadata": {
    "collapsed": true
   },
   "outputs": [],
   "source": [
    "counter = 0\n",
    "graph = {}\n",
    "\n",
    "for fid in tqdm_notebook(ego_friends['items']):  \n",
    "    response, url = get_friends_ids(fid, access_token)\n",
    "    time.sleep(.5)\n",
    "    \n",
    "    if type(response) is dict:\n",
    "        graph[fid] = response['items']\n",
    "        \n",
    "    if type(response) is not dict:\n",
    "        print(fid)\n",
    "        print(response)\n",
    "        print(url)\n",
    "        counter += 1"
   ]
  },
  {
   "cell_type": "code",
   "execution_count": null,
   "metadata": {
    "collapsed": true
   },
   "outputs": [],
   "source": []
  },
  {
   "cell_type": "code",
   "execution_count": null,
   "metadata": {
    "collapsed": true
   },
   "outputs": [],
   "source": []
  },
  {
   "cell_type": "markdown",
   "metadata": {},
   "source": [
    "## 3.1 Get additional user info"
   ]
  },
  {
   "cell_type": "code",
   "execution_count": null,
   "metadata": {
    "collapsed": true
   },
   "outputs": [],
   "source": [
    "user_id = 11986950\n",
    "fields = 'sex,city,education,bdate'\n",
    "access_token = \n",
    "\n",
    "\n",
    "user_url = 'https://api.vk.com/method/users.get?fields={}&user_ids={}&lang=en&access_token={}&v=5.8'.format(fields,\n",
    "                                                                                                    user_id,\n",
    "                                                                                               access_token)\n",
    "\n",
    "json_response = requests.get(user_url).json()"
   ]
  },
  {
   "cell_type": "code",
   "execution_count": null,
   "metadata": {
    "collapsed": true
   },
   "outputs": [],
   "source": [
    "print(json_response)"
   ]
  },
  {
   "cell_type": "code",
   "execution_count": null,
   "metadata": {
    "collapsed": true
   },
   "outputs": [],
   "source": []
  },
  {
   "cell_type": "raw",
   "metadata": {},
   "source": [
    "5. Analyse simple network properties (#vertices, #edges, #connected components) (4)\n",
    "6. Plot degree distribution, does power law hold for your network? (4)\n",
    "7. Compute centrality measures for your network (degree, closeness, betweenness, eigenvector),\n",
    "  interpret the ranking results (4)\n",
    "8. Using different layouts plot you network, use different node characteristics as node size/color\n",
    "  (you could also download meta data: gender, age, city) (4)\n",
    "9. *Find network communities using either igraph or community package, analyse the results (10)"
   ]
  },
  {
   "cell_type": "code",
   "execution_count": null,
   "metadata": {
    "collapsed": true
   },
   "outputs": [],
   "source": []
  },
  {
   "cell_type": "markdown",
   "metadata": {},
   "source": [
    "# 4. VK network modelling"
   ]
  },
  {
   "cell_type": "raw",
   "metadata": {},
   "source": [
    "Имплементируйте модели случайных графов которые наилучшим образом описывают различные характеристики\n",
    "вашей социальной сети, используйте разные модели для моделирования разных характеристик.\n",
    "\n",
    "1. Preferential attachement (to model power law distr.) (5)\n",
    "2. Configuration model (to model degree sequence) (10)\n",
    "3. Stochastic-block model (to model community structure) (10)\n",
    "4. Compare different model with your own network (using different characteristics), which model describe your network best? (10)"
   ]
  },
  {
   "cell_type": "code",
   "execution_count": null,
   "metadata": {
    "collapsed": true
   },
   "outputs": [],
   "source": []
  },
  {
   "cell_type": "code",
   "execution_count": null,
   "metadata": {
    "collapsed": true
   },
   "outputs": [],
   "source": []
  },
  {
   "cell_type": "code",
   "execution_count": null,
   "metadata": {
    "collapsed": true
   },
   "outputs": [],
   "source": []
  },
  {
   "cell_type": "code",
   "execution_count": null,
   "metadata": {
    "collapsed": true
   },
   "outputs": [],
   "source": []
  }
 ],
 "metadata": {
  "kernelspec": {
   "display_name": "Python 3",
   "language": "python",
   "name": "python3"
  },
  "language_info": {
   "codemirror_mode": {
    "name": "ipython",
    "version": 3
   },
   "file_extension": ".py",
   "mimetype": "text/x-python",
   "name": "python",
   "nbconvert_exporter": "python",
   "pygments_lexer": "ipython3",
   "version": "3.8.8"
  }
 },
 "nbformat": 4,
 "nbformat_minor": 2
}
