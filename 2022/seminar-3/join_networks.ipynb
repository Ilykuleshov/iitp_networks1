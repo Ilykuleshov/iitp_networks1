{
 "cells": [
  {
   "cell_type": "code",
   "execution_count": 1,
   "id": "67117d0a",
   "metadata": {},
   "outputs": [],
   "source": [
    "import pandas as pd\n",
    "import os\n",
    "from pathlib import Path\n",
    "import numpy as np"
   ]
  },
  {
   "cell_type": "code",
   "execution_count": 2,
   "id": "d7e12359",
   "metadata": {},
   "outputs": [],
   "source": [
    "root = Path('/home/anvar/iitp-networks-hw2')"
   ]
  },
  {
   "cell_type": "code",
   "execution_count": 3,
   "id": "3ca4ff40",
   "metadata": {},
   "outputs": [
    {
     "name": "stdout",
     "output_type": "stream",
     "text": [
      " edges.csv\t\t  'iitpnetworks2022hw2(4)'   join_networks.ipynb\r\n",
      " iitpnetworks2022hw2\t   iitpnetworksha1\t     users.csv\r\n",
      "'iitpnetworks2022hw2(2)'   iitpnetworksha2\r\n",
      "'iitpnetworks2022hw2(3)'  'iitpnetworksha2(1)'\r\n"
     ]
    }
   ],
   "source": [
    "!ls"
   ]
  },
  {
   "cell_type": "markdown",
   "id": "41b27b48",
   "metadata": {},
   "source": [
    "# Collect user info"
   ]
  },
  {
   "cell_type": "code",
   "execution_count": 4,
   "id": "8d07dca0",
   "metadata": {},
   "outputs": [],
   "source": [
    "# df_student = pd.read_excel('/home/anvar/iitp-networks-hw2/iitpnetworksha1/full_table_of_friends.xlsx')\n",
    "# df_student_edges = pd.read_excel('/home/anvar/iitp-networks-hw2/iitpnetworksha1/mutual_friends.xlsx')\n",
    "# ids = np.unique(df_student_edges[['friend_1', 'friend_2']].values.reshape(-1))\n",
    "\n",
    "# df_student[df_student.id.isin(ids)].to_csv('/home/anvar/iitp-networks-hw2/iitpnetworksha1/friends.csv')\n",
    "# df_student_edges.to_csv('/home/anvar/iitp-networks-hw2/iitpnetworksha1/edges.csv')"
   ]
  },
  {
   "cell_type": "code",
   "execution_count": 5,
   "id": "e395f71f",
   "metadata": {},
   "outputs": [],
   "source": [
    "friends = [\n",
    "    '/home/anvar/iitp-networks-hw2/iitpnetworks2022hw2/freinds_list.csv',\n",
    "    '/home/anvar/iitp-networks-hw2/iitpnetworks2022hw2(3)/DataFrame.csv',\n",
    "    '/home/anvar/iitp-networks-hw2/iitpnetworksha2/vertices.csv',\n",
    "    '/home/anvar/iitp-networks-hw2/iitpnetworks2022hw2(4)/df_friends.csv',\n",
    "    '/home/anvar/iitp-networks-hw2/iitpnetworks2022hw2(2)/friends_info.csv',\n",
    "    '/home/anvar/iitp-networks-hw2/iitpnetworksha2(1)/info.csv',\n",
    "    '/home/anvar/iitp-networks-hw2/iitpnetworksha1/friends.csv'\n",
    "]"
   ]
  },
  {
   "cell_type": "code",
   "execution_count": 6,
   "id": "515a7cab",
   "metadata": {},
   "outputs": [],
   "source": [
    "dfs = []\n",
    "for f in friends:\n",
    "    df = pd.read_csv(f)\n",
    "    if 'id' in df.columns:\n",
    "        df.rename(columns={'id':'User id',\n",
    "                           'first_name':'Name', \n",
    "                           'sex': 'Sex', \n",
    "                          'bdate':'Birthday',\n",
    "                          'city':'City',\n",
    "                          'last_name':'Surname',\n",
    "                          'university_name':'University'}, inplace=True)\n",
    "    try:\n",
    "        df = df[['Birthday', 'City', 'Name', 'Sex', 'University', 'User id']]\n",
    "    except KeyError:\n",
    "        df = df[['Birthday', 'Name', 'Sex', 'User id']]\n",
    "#     print(sorted(list(df.columns)))\n",
    "    dfs.append(df)\n",
    "df = pd.concat(dfs).reset_index(drop=True)\n",
    "\n",
    "def fix_city_name(x):\n",
    "    if x is np.nan:\n",
    "        return x\n",
    "    if 'title' in x:\n",
    "        return x.split(\"'\")[-2]\n",
    "    return x\n",
    "\n",
    "df['City'] = df.City.apply(fix_city_name)"
   ]
  },
  {
   "cell_type": "code",
   "execution_count": 7,
   "id": "6bd784b2",
   "metadata": {},
   "outputs": [
    {
     "data": {
      "text/html": [
       "<div>\n",
       "<style scoped>\n",
       "    .dataframe tbody tr th:only-of-type {\n",
       "        vertical-align: middle;\n",
       "    }\n",
       "\n",
       "    .dataframe tbody tr th {\n",
       "        vertical-align: top;\n",
       "    }\n",
       "\n",
       "    .dataframe thead th {\n",
       "        text-align: right;\n",
       "    }\n",
       "</style>\n",
       "<table border=\"1\" class=\"dataframe\">\n",
       "  <thead>\n",
       "    <tr style=\"text-align: right;\">\n",
       "      <th></th>\n",
       "      <th>Birthday</th>\n",
       "      <th>City</th>\n",
       "      <th>Name</th>\n",
       "      <th>Sex</th>\n",
       "      <th>University</th>\n",
       "      <th>User id</th>\n",
       "    </tr>\n",
       "  </thead>\n",
       "  <tbody>\n",
       "    <tr>\n",
       "      <th>0</th>\n",
       "      <td>17.4</td>\n",
       "      <td>Saint Petersburg</td>\n",
       "      <td>Egor</td>\n",
       "      <td>2</td>\n",
       "      <td>No</td>\n",
       "      <td>17219</td>\n",
       "    </tr>\n",
       "    <tr>\n",
       "      <th>1</th>\n",
       "      <td>12.3</td>\n",
       "      <td>Saint Petersburg</td>\n",
       "      <td>Ekaterina</td>\n",
       "      <td>1</td>\n",
       "      <td>No</td>\n",
       "      <td>37281</td>\n",
       "    </tr>\n",
       "    <tr>\n",
       "      <th>2</th>\n",
       "      <td>9.10</td>\n",
       "      <td>Moscow</td>\n",
       "      <td>Alexander</td>\n",
       "      <td>2</td>\n",
       "      <td>No</td>\n",
       "      <td>216456</td>\n",
       "    </tr>\n",
       "    <tr>\n",
       "      <th>3</th>\n",
       "      <td>12.6.1985</td>\n",
       "      <td>Saint Petersburg</td>\n",
       "      <td>Kirill</td>\n",
       "      <td>2</td>\n",
       "      <td>No</td>\n",
       "      <td>393551</td>\n",
       "    </tr>\n",
       "    <tr>\n",
       "      <th>4</th>\n",
       "      <td>17.6</td>\n",
       "      <td>Saint Petersburg</td>\n",
       "      <td>Elena</td>\n",
       "      <td>1</td>\n",
       "      <td>БГУ (бывш. БГПИ, БФ НГУ)</td>\n",
       "      <td>727643</td>\n",
       "    </tr>\n",
       "  </tbody>\n",
       "</table>\n",
       "</div>"
      ],
      "text/plain": [
       "    Birthday              City       Name Sex                University  \\\n",
       "0       17.4  Saint Petersburg       Egor   2                        No   \n",
       "1       12.3  Saint Petersburg  Ekaterina   1                        No   \n",
       "2       9.10            Moscow  Alexander   2                        No   \n",
       "3  12.6.1985  Saint Petersburg     Kirill   2                        No   \n",
       "4       17.6  Saint Petersburg      Elena   1  БГУ (бывш. БГПИ, БФ НГУ)   \n",
       "\n",
       "   User id  \n",
       "0    17219  \n",
       "1    37281  \n",
       "2   216456  \n",
       "3   393551  \n",
       "4   727643  "
      ]
     },
     "execution_count": 7,
     "metadata": {},
     "output_type": "execute_result"
    }
   ],
   "source": [
    "df.head()"
   ]
  },
  {
   "cell_type": "markdown",
   "id": "af0d3c13",
   "metadata": {},
   "source": [
    "# Collect friendship"
   ]
  },
  {
   "cell_type": "code",
   "execution_count": 8,
   "id": "5a369ad6",
   "metadata": {},
   "outputs": [],
   "source": [
    "edges = [\n",
    "    '/home/anvar/iitp-networks-hw2/iitpnetworks2022hw2/edges.csv',\n",
    "    '/home/anvar/iitp-networks-hw2/iitpnetworks2022hw2(3)/edges.csv',\n",
    "    '/home/anvar/iitp-networks-hw2/iitpnetworksha1/edges.csv',\n",
    "    '/home/anvar/iitp-networks-hw2/iitpnetworksha2/edges.csv',\n",
    "    '/home/anvar/iitp-networks-hw2/iitpnetworks2022hw2(4)/df_edges.csv',\n",
    "    '/home/anvar/iitp-networks-hw2/iitpnetworks2022hw2(2)/edges_table.csv',\n",
    "    '/home/anvar/iitp-networks-hw2/iitpnetworksha2(1)/edges.csv'   \n",
    "    \n",
    "]"
   ]
  },
  {
   "cell_type": "code",
   "execution_count": 9,
   "id": "a55892c0",
   "metadata": {},
   "outputs": [
    {
     "name": "stdout",
     "output_type": "stream",
     "text": [
      "(23189, 2)\n",
      "(20161, 2)\n"
     ]
    }
   ],
   "source": [
    "dfs = []\n",
    "for edges_path in edges:\n",
    "    df_edges = pd.read_csv(edges_path)\n",
    "    if 'friend_1' in df_edges.columns:\n",
    "        df_edges.rename(columns={'friend_1':'user_id_1', 'friend_2':'user_id_2'}, inplace=True)\n",
    "    if 'source' in df_edges.columns:\n",
    "        df_edges.rename(columns={'source':'user_id_1', 'target':'user_id_2'}, inplace=True)\n",
    "    if '0' in df_edges.columns:\n",
    "        df_edges.rename(columns={'0':'user_id_1', '1':'user_id_2'}, inplace=True)\n",
    "    if 'Вершина 1' in df_edges.columns:\n",
    "        df_edges.rename(columns={'Вершина 1':'user_id_1', 'Вершина 2':'user_id_2'}, inplace=True)\n",
    "    dfs.append(df_edges[['user_id_1', 'user_id_2']])\n",
    "df_edges = pd.concat(dfs)\n",
    "print(df_edges.shape)\n",
    "df_edges = df_edges.drop_duplicates()\n",
    "print(df_edges.shape)"
   ]
  },
  {
   "cell_type": "markdown",
   "id": "b64de5f4",
   "metadata": {},
   "source": [
    "# Shorten Users list"
   ]
  },
  {
   "cell_type": "code",
   "execution_count": 10,
   "id": "ecaba514",
   "metadata": {},
   "outputs": [],
   "source": [
    "users_with_edge = np.unique(df_edges[['user_id_1', 'user_id_2']].values.reshape(-1))"
   ]
  },
  {
   "cell_type": "code",
   "execution_count": 11,
   "id": "dfe534b1",
   "metadata": {},
   "outputs": [],
   "source": [
    "df = df[df['User id'].isin(users_with_edge)]\n",
    "\n",
    "# duplicated_ids = df[df.duplicated(subset=['User id'])]['User id']\n",
    "# df[df['User id'].isin(duplicated_ids)].sort_values('User id').head(20)\n",
    "\n",
    "df = df.drop_duplicates(subset=['User id']) # likely to loose some meta information about duplicated users, but whatever"
   ]
  },
  {
   "cell_type": "code",
   "execution_count": 12,
   "id": "dfd87439",
   "metadata": {},
   "outputs": [
    {
     "data": {
      "text/plain": [
       "((20161, 2), (1628, 6))"
      ]
     },
     "execution_count": 12,
     "metadata": {},
     "output_type": "execute_result"
    }
   ],
   "source": [
    "df_edges.shape, df.shape"
   ]
  },
  {
   "cell_type": "code",
   "execution_count": 13,
   "id": "ab37a2bd",
   "metadata": {},
   "outputs": [],
   "source": [
    "df.to_csv('users.csv')\n",
    "df_edges.to_csv('edges.csv')"
   ]
  },
  {
   "cell_type": "code",
   "execution_count": null,
   "id": "8f2c9b8e",
   "metadata": {},
   "outputs": [],
   "source": []
  },
  {
   "cell_type": "code",
   "execution_count": null,
   "id": "639ea8e6",
   "metadata": {},
   "outputs": [],
   "source": []
  }
 ],
 "metadata": {
  "kernelspec": {
   "display_name": "Python 3",
   "language": "python",
   "name": "python3"
  },
  "language_info": {
   "codemirror_mode": {
    "name": "ipython",
    "version": 3
   },
   "file_extension": ".py",
   "mimetype": "text/x-python",
   "name": "python",
   "nbconvert_exporter": "python",
   "pygments_lexer": "ipython3",
   "version": "3.8.8"
  }
 },
 "nbformat": 4,
 "nbformat_minor": 5
}
