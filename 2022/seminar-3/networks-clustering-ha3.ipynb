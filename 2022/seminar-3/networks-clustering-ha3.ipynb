{
 "cells": [
  {
   "cell_type": "markdown",
   "id": "83c57e0a",
   "metadata": {},
   "source": [
    "# Home assignment 3.\n",
    "\n",
    "## Part 1.\n",
    "\n",
    "The goal of this assignment is to analyse the joint network (agreggated from your VK egocentric).\n",
    "\n",
    "1. Compute centrality measures for the joint network: degree, closeness, betweenness, eigenvector; interpret the ranking results (does ranking make sense?).\n",
    "2. Using different layouts plot you network (you can use different node characteristics as node size/color). \n",
    "3. Find network communities using either `igraph` or `community-louvain` package, analyse the results, can you identify clusters related to your egocentric network?\n",
    "\n",
    "https://python-louvain.readthedocs.io/en/latest/api.html"
   ]
  },
  {
   "cell_type": "code",
   "execution_count": null,
   "id": "40230783",
   "metadata": {},
   "outputs": [],
   "source": []
  },
  {
   "cell_type": "code",
   "execution_count": null,
   "id": "944c9bb3",
   "metadata": {},
   "outputs": [],
   "source": []
  },
  {
   "cell_type": "markdown",
   "id": "48cfa543",
   "metadata": {},
   "source": [
    "## Part 2. \n",
    "\n",
    "### Community detection using Spectral Clustering\n",
    "\n",
    "Given graph $G$ with $n$ nodes, find non-overlapping node \"communities\": $k$ groups of nodes that are densely intra connected and have low number of inter connections.\n",
    "\n",
    "- Compute square diagonal matrix of node degrees $D$. \n",
    "    $$D_{ii} = \\sum_i A_{ij}, D_{ij} = 0, i \\neq j$$\n",
    "- Construct graph Laplacian \n",
    "    $$L_{unnormed} = D - A$$\n",
    "Find $0 = \\lambda_0 \\leq \\lambda_1 \\leq \\lambda_2 \\leq \\ldots \\leq \\lambda_m$ smallest eigenvalues of $L$ and construct matrix $X$ by stacking $m$ corresponding eigenvectors ($v_1, \\ldots v_m$) as columns of $X$. Matrix $X$ has size $n \\times m$, its rows are \"spectral representaion\" of graph nodes.\n",
    "   \n",
    "- Run k-means algorithm on matrix X and assign nodes with labels obtained by k-means.\n",
    "\n",
    "---\n",
    "\n",
    "Implement 3 algorithms described in https://arxiv.org/abs/0711.0189 :\n",
    "1. Unnormalized spectral clustering \n",
    "2. Normalized spectral clustering according to Shi and Malik (2000)\n",
    "3. Normalized spectral clustering according to Ng, Jordan, and Weiss (2002)\n",
    "\n",
    "## Compare 3 versions of Spectral clustering on `Karate Club dataset`\n",
    "    \n",
    "using `Adjusted Rand Index` (3 pairwise comparisons), `Modularity` (3 numbers) and visually, plotting points in a corresponding 2 dimensional spaces (spanned by eigenvectors).\n",
    "\n",
    "Theoretical questions:\n",
    "\n",
    "1. Why does the smallest eigenvalue of unnormalized Laplacian is always equal to 0? \n",
    "2. From network point of view, what does Symmetric normalization do? \n",
    "3. Under what conditions Symmetric and Random walk normalizations yield the same result? \n",
    "  \n",
    "    \n",
    "Sources:\n",
    "1. Andrew Ng paper on spectral clustering https://ai.stanford.edu/~ang/papers/nips01-spectral.pdf\n",
    "2. Tutorial on spectral clustering with multiple theoretical views on the problem https://arxiv.org/abs/0711.0189\n",
    "3. Amazing explanation from James R. Lee https://www.youtube.com/watch?v=8XJes6XFjxM"
   ]
  },
  {
   "cell_type": "code",
   "execution_count": null,
   "id": "e728b04c",
   "metadata": {},
   "outputs": [],
   "source": []
  },
  {
   "cell_type": "code",
   "execution_count": null,
   "id": "22a4517f",
   "metadata": {},
   "outputs": [],
   "source": []
  }
 ],
 "metadata": {
  "kernelspec": {
   "display_name": "Python 3",
   "language": "python",
   "name": "python3"
  },
  "language_info": {
   "codemirror_mode": {
    "name": "ipython",
    "version": 3
   },
   "file_extension": ".py",
   "mimetype": "text/x-python",
   "name": "python",
   "nbconvert_exporter": "python",
   "pygments_lexer": "ipython3",
   "version": "3.8.8"
  }
 },
 "nbformat": 4,
 "nbformat_minor": 5
}
