{
 "cells": [
  {
   "cell_type": "markdown",
   "id": "3408964e",
   "metadata": {},
   "source": [
    "# 1. Small-world network example\n",
    "\n",
    "before you start read this short (2.5 pages) paper\n",
    "\n",
    "\"Emergence of Scaling in Random Networks\", Albert Laszlo Barabasi and Reka Albert, https://web.archive.org/web/20120417112354/http://www.nd.edu/~networks/Publication%20Categories/03%20Journal%20Articles/Physics/EmergenceRandom_Science%20286,%20509-512%20(1999).pdf\n"
   ]
  },
  {
   "cell_type": "code",
   "execution_count": 1,
   "id": "4bef9958",
   "metadata": {},
   "outputs": [],
   "source": [
    "import pandas as pd\n",
    "import numpy as np\n",
    "from pathlib import Path\n",
    "import matplotlib.pyplot as plt\n",
    "%matplotlib inline"
   ]
  },
  {
   "cell_type": "code",
   "execution_count": 2,
   "id": "9b910c55",
   "metadata": {},
   "outputs": [
    {
     "data": {
      "text/html": [
       "<div>\n",
       "<style scoped>\n",
       "    .dataframe tbody tr th:only-of-type {\n",
       "        vertical-align: middle;\n",
       "    }\n",
       "\n",
       "    .dataframe tbody tr th {\n",
       "        vertical-align: top;\n",
       "    }\n",
       "\n",
       "    .dataframe thead th {\n",
       "        text-align: right;\n",
       "    }\n",
       "</style>\n",
       "<table border=\"1\" class=\"dataframe\">\n",
       "  <thead>\n",
       "    <tr style=\"text-align: right;\">\n",
       "      <th></th>\n",
       "      <th>title</th>\n",
       "      <th>year</th>\n",
       "      <th>author</th>\n",
       "      <th>Name</th>\n",
       "      <th>Surname</th>\n",
       "      <th>author_id_new</th>\n",
       "      <th>Gender</th>\n",
       "    </tr>\n",
       "  </thead>\n",
       "  <tbody>\n",
       "    <tr>\n",
       "      <th>0</th>\n",
       "      <td>Improving Energy-awareness in Selective Reprog...</td>\n",
       "      <td>2016</td>\n",
       "      <td>Hadeel Abdah</td>\n",
       "      <td>Hadeel</td>\n",
       "      <td>Abdah</td>\n",
       "      <td>Abdah Hadeel</td>\n",
       "      <td>Male</td>\n",
       "    </tr>\n",
       "    <tr>\n",
       "      <th>1</th>\n",
       "      <td>PIFA Antenna Design for Fourth Generation Wire...</td>\n",
       "      <td>2017</td>\n",
       "      <td>Amin Al-Ka'bi</td>\n",
       "      <td>Amin</td>\n",
       "      <td>Al-Ka'bi</td>\n",
       "      <td>Al-Ka'bi Amin</td>\n",
       "      <td>Male</td>\n",
       "    </tr>\n",
       "    <tr>\n",
       "      <th>2</th>\n",
       "      <td>Optimization algorithm for an information grap...</td>\n",
       "      <td>2016</td>\n",
       "      <td>Mohammed Al-Mardi</td>\n",
       "      <td>Mohammed</td>\n",
       "      <td>Al-Mardi</td>\n",
       "      <td>Al-Mardi Mohammed</td>\n",
       "      <td>Male</td>\n",
       "    </tr>\n",
       "    <tr>\n",
       "      <th>3</th>\n",
       "      <td>Indoor Positioning in WiFi and NanoLOC Networks</td>\n",
       "      <td>2016</td>\n",
       "      <td>Abdulwahab Al-odhari</td>\n",
       "      <td>Abdulwahab</td>\n",
       "      <td>Al-odhari</td>\n",
       "      <td>Al-odhari Abdulwahab</td>\n",
       "      <td>Male</td>\n",
       "    </tr>\n",
       "    <tr>\n",
       "      <th>4</th>\n",
       "      <td>Variable-to-Fixed Length Resolution Codes for ...</td>\n",
       "      <td>2016</td>\n",
       "      <td>R. Amjad</td>\n",
       "      <td>R.</td>\n",
       "      <td>Amjad</td>\n",
       "      <td>Amjad R.</td>\n",
       "      <td>Male</td>\n",
       "    </tr>\n",
       "  </tbody>\n",
       "</table>\n",
       "</div>"
      ],
      "text/plain": [
       "                                               title  year  \\\n",
       "0  Improving Energy-awareness in Selective Reprog...  2016   \n",
       "1  PIFA Antenna Design for Fourth Generation Wire...  2017   \n",
       "2  Optimization algorithm for an information grap...  2016   \n",
       "3    Indoor Positioning in WiFi and NanoLOC Networks  2016   \n",
       "4  Variable-to-Fixed Length Resolution Codes for ...  2016   \n",
       "\n",
       "                 author        Name    Surname         author_id_new Gender  \n",
       "0          Hadeel Abdah      Hadeel      Abdah          Abdah Hadeel   Male  \n",
       "1         Amin Al-Ka'bi        Amin   Al-Ka'bi         Al-Ka'bi Amin   Male  \n",
       "2     Mohammed Al-Mardi    Mohammed   Al-Mardi     Al-Mardi Mohammed   Male  \n",
       "3  Abdulwahab Al-odhari  Abdulwahab  Al-odhari  Al-odhari Abdulwahab   Male  \n",
       "4              R. Amjad          R.      Amjad              Amjad R.   Male  "
      ]
     },
     "execution_count": 2,
     "metadata": {},
     "output_type": "execute_result"
    }
   ],
   "source": [
    "fname = Path('./itas_2009-2017_v8.xls')\n",
    "itas_all = pd.read_excel(fname)\n",
    "\n",
    "itas_all.head()"
   ]
  },
  {
   "cell_type": "code",
   "execution_count": 3,
   "id": "278734c5",
   "metadata": {},
   "outputs": [
    {
     "data": {
      "text/html": [
       "<div>\n",
       "<style scoped>\n",
       "    .dataframe tbody tr th:only-of-type {\n",
       "        vertical-align: middle;\n",
       "    }\n",
       "\n",
       "    .dataframe tbody tr th {\n",
       "        vertical-align: top;\n",
       "    }\n",
       "\n",
       "    .dataframe thead th {\n",
       "        text-align: right;\n",
       "    }\n",
       "</style>\n",
       "<table border=\"1\" class=\"dataframe\">\n",
       "  <thead>\n",
       "    <tr style=\"text-align: right;\">\n",
       "      <th></th>\n",
       "      <th>title</th>\n",
       "      <th>author_id_new</th>\n",
       "      <th>year</th>\n",
       "      <th>author</th>\n",
       "      <th>Name</th>\n",
       "      <th>Surname</th>\n",
       "      <th>Gender</th>\n",
       "    </tr>\n",
       "  </thead>\n",
       "  <tbody>\n",
       "    <tr>\n",
       "      <th>0</th>\n",
       "      <td>\"Зеркальные риды\" в данных Hi-C</td>\n",
       "      <td>Гаврилов Алексей</td>\n",
       "      <td>1</td>\n",
       "      <td>1</td>\n",
       "      <td>1</td>\n",
       "      <td>1</td>\n",
       "      <td>1</td>\n",
       "    </tr>\n",
       "    <tr>\n",
       "      <th>1</th>\n",
       "      <td>\"Зеркальные риды\" в данных Hi-C</td>\n",
       "      <td>Галицына Александра</td>\n",
       "      <td>1</td>\n",
       "      <td>1</td>\n",
       "      <td>1</td>\n",
       "      <td>1</td>\n",
       "      <td>1</td>\n",
       "    </tr>\n",
       "    <tr>\n",
       "      <th>2</th>\n",
       "      <td>\"Зеркальные риды\" в данных Hi-C</td>\n",
       "      <td>Храмеева Екатерина</td>\n",
       "      <td>1</td>\n",
       "      <td>1</td>\n",
       "      <td>1</td>\n",
       "      <td>1</td>\n",
       "      <td>1</td>\n",
       "    </tr>\n",
       "    <tr>\n",
       "      <th>3</th>\n",
       "      <td>''Connected Car''-Based Customised On-Demand T...</td>\n",
       "      <td>Гусыхин Олег</td>\n",
       "      <td>1</td>\n",
       "      <td>1</td>\n",
       "      <td>1</td>\n",
       "      <td>1</td>\n",
       "      <td>1</td>\n",
       "    </tr>\n",
       "    <tr>\n",
       "      <th>4</th>\n",
       "      <td>''Connected Car''-Based Customised On-Demand T...</td>\n",
       "      <td>Смирнов Александр</td>\n",
       "      <td>1</td>\n",
       "      <td>1</td>\n",
       "      <td>1</td>\n",
       "      <td>1</td>\n",
       "      <td>1</td>\n",
       "    </tr>\n",
       "  </tbody>\n",
       "</table>\n",
       "</div>"
      ],
      "text/plain": [
       "                                               title        author_id_new  \\\n",
       "0                    \"Зеркальные риды\" в данных Hi-C     Гаврилов Алексей   \n",
       "1                    \"Зеркальные риды\" в данных Hi-C  Галицына Александра   \n",
       "2                    \"Зеркальные риды\" в данных Hi-C   Храмеева Екатерина   \n",
       "3  ''Connected Car''-Based Customised On-Demand T...         Гусыхин Олег   \n",
       "4  ''Connected Car''-Based Customised On-Demand T...    Смирнов Александр   \n",
       "\n",
       "   year  author  Name  Surname  Gender  \n",
       "0     1       1     1        1       1  \n",
       "1     1       1     1        1       1  \n",
       "2     1       1     1        1       1  \n",
       "3     1       1     1        1       1  \n",
       "4     1       1     1        1       1  "
      ]
     },
     "execution_count": 3,
     "metadata": {},
     "output_type": "execute_result"
    }
   ],
   "source": [
    "title_author = itas_all.groupby(by=['title', 'author_id_new']).count().reset_index()\n",
    "authors, titles = title_author.title, title_author.author_id_new\n",
    "title_author.head(5)"
   ]
  },
  {
   "cell_type": "code",
   "execution_count": 4,
   "id": "f80b1047",
   "metadata": {},
   "outputs": [
    {
     "data": {
      "text/html": [
       "<div>\n",
       "<style scoped>\n",
       "    .dataframe tbody tr th:only-of-type {\n",
       "        vertical-align: middle;\n",
       "    }\n",
       "\n",
       "    .dataframe tbody tr th {\n",
       "        vertical-align: top;\n",
       "    }\n",
       "\n",
       "    .dataframe thead th {\n",
       "        text-align: right;\n",
       "    }\n",
       "</style>\n",
       "<table border=\"1\" class=\"dataframe\">\n",
       "  <thead>\n",
       "    <tr style=\"text-align: right;\">\n",
       "      <th>author_id_new</th>\n",
       "      <th>Abdah Hadeel</th>\n",
       "      <th>Al-Ka'bi Amin</th>\n",
       "      <th>Al-Mardi Mohammed</th>\n",
       "      <th>Al-odhari Abdulwahab</th>\n",
       "      <th>Amjad R.</th>\n",
       "    </tr>\n",
       "    <tr>\n",
       "      <th>title</th>\n",
       "      <th></th>\n",
       "      <th></th>\n",
       "      <th></th>\n",
       "      <th></th>\n",
       "      <th></th>\n",
       "    </tr>\n",
       "  </thead>\n",
       "  <tbody>\n",
       "    <tr>\n",
       "      <th>\"Зеркальные риды\" в данных Hi-C</th>\n",
       "      <td>0</td>\n",
       "      <td>0</td>\n",
       "      <td>0</td>\n",
       "      <td>0</td>\n",
       "      <td>0</td>\n",
       "    </tr>\n",
       "    <tr>\n",
       "      <th>''Connected Car''-Based Customised On-Demand Tours: the Concept and Underlying Technologies</th>\n",
       "      <td>0</td>\n",
       "      <td>0</td>\n",
       "      <td>0</td>\n",
       "      <td>0</td>\n",
       "      <td>0</td>\n",
       "    </tr>\n",
       "    <tr>\n",
       "      <th>A Brief Study of Dimensionality Reduction for Mass Spectra Classification</th>\n",
       "      <td>0</td>\n",
       "      <td>0</td>\n",
       "      <td>0</td>\n",
       "      <td>0</td>\n",
       "      <td>0</td>\n",
       "    </tr>\n",
       "    <tr>\n",
       "      <th>A Generic Web Service for Running Parameter Sweep Applications</th>\n",
       "      <td>0</td>\n",
       "      <td>0</td>\n",
       "      <td>0</td>\n",
       "      <td>0</td>\n",
       "      <td>0</td>\n",
       "    </tr>\n",
       "    <tr>\n",
       "      <th>A List Decoding Approach to Woven Block Codes</th>\n",
       "      <td>0</td>\n",
       "      <td>0</td>\n",
       "      <td>0</td>\n",
       "      <td>0</td>\n",
       "      <td>0</td>\n",
       "    </tr>\n",
       "  </tbody>\n",
       "</table>\n",
       "</div>"
      ],
      "text/plain": [
       "author_id_new                                       Abdah Hadeel  \\\n",
       "title                                                              \n",
       "\"Зеркальные риды\" в данных Hi-C                                0   \n",
       "''Connected Car''-Based Customised On-Demand To...             0   \n",
       "A Brief Study of Dimensionality Reduction for M...             0   \n",
       "A Generic Web Service for Running Parameter Swe...             0   \n",
       "A List Decoding Approach to Woven Block Codes                  0   \n",
       "\n",
       "author_id_new                                       Al-Ka'bi Amin  \\\n",
       "title                                                               \n",
       "\"Зеркальные риды\" в данных Hi-C                                 0   \n",
       "''Connected Car''-Based Customised On-Demand To...              0   \n",
       "A Brief Study of Dimensionality Reduction for M...              0   \n",
       "A Generic Web Service for Running Parameter Swe...              0   \n",
       "A List Decoding Approach to Woven Block Codes                   0   \n",
       "\n",
       "author_id_new                                       Al-Mardi Mohammed  \\\n",
       "title                                                                   \n",
       "\"Зеркальные риды\" в данных Hi-C                                     0   \n",
       "''Connected Car''-Based Customised On-Demand To...                  0   \n",
       "A Brief Study of Dimensionality Reduction for M...                  0   \n",
       "A Generic Web Service for Running Parameter Swe...                  0   \n",
       "A List Decoding Approach to Woven Block Codes                       0   \n",
       "\n",
       "author_id_new                                       Al-odhari Abdulwahab  \\\n",
       "title                                                                      \n",
       "\"Зеркальные риды\" в данных Hi-C                                        0   \n",
       "''Connected Car''-Based Customised On-Demand To...                     0   \n",
       "A Brief Study of Dimensionality Reduction for M...                     0   \n",
       "A Generic Web Service for Running Parameter Swe...                     0   \n",
       "A List Decoding Approach to Woven Block Codes                          0   \n",
       "\n",
       "author_id_new                                       Amjad R.  \n",
       "title                                                         \n",
       "\"Зеркальные риды\" в данных Hi-C                            0  \n",
       "''Connected Car''-Based Customised On-Demand To...         0  \n",
       "A Brief Study of Dimensionality Reduction for M...         0  \n",
       "A Generic Web Service for Running Parameter Swe...         0  \n",
       "A List Decoding Approach to Woven Block Codes              0  "
      ]
     },
     "execution_count": 4,
     "metadata": {},
     "output_type": "execute_result"
    }
   ],
   "source": [
    "inc_table = pd.crosstab(authors, titles)\n",
    "inc_table.head(5).iloc[:, :5]"
   ]
  },
  {
   "cell_type": "code",
   "execution_count": 5,
   "id": "50c0d821",
   "metadata": {},
   "outputs": [],
   "source": [
    "adjacency_matrix = inc_table.values.dot(inc_table.values.T)\n",
    "n_papers = np.diag(adjacency_matrix)\n",
    "np.fill_diagonal(adjacency_matrix, 0)"
   ]
  },
  {
   "cell_type": "code",
   "execution_count": 6,
   "id": "ae7c734f",
   "metadata": {},
   "outputs": [],
   "source": [
    "adjacency_matrix[adjacency_matrix>1] = 1"
   ]
  },
  {
   "cell_type": "code",
   "execution_count": 7,
   "id": "f7175c69",
   "metadata": {},
   "outputs": [],
   "source": [
    "bins = np.histogram(adjacency_matrix.sum(axis=1), bins=20)"
   ]
  },
  {
   "cell_type": "code",
   "execution_count": 8,
   "id": "092bd5da",
   "metadata": {},
   "outputs": [
    {
     "data": {
      "image/png": "[encoded data removed]",
      "text/plain": [
       "<Figure size 432x288 with 1 Axes>"
      ]
     },
     "metadata": {
      "needs_background": "light"
     },
     "output_type": "display_data"
    }
   ],
   "source": [
    "plt.scatter(bins[1][1:], bins[0])\n",
    "plt.plot(bins[1][1:], bins[0]);"
   ]
  },
  {
   "cell_type": "code",
   "execution_count": 9,
   "id": "555af435",
   "metadata": {},
   "outputs": [
    {
     "data": {
      "image/png": "[encoded data removed]",
      "text/plain": [
       "<Figure size 432x288 with 1 Axes>"
      ]
     },
     "metadata": {
      "needs_background": "light"
     },
     "output_type": "display_data"
    }
   ],
   "source": [
    "plt.scatter(np.log(bins[1][1:]), np.log(bins[0]))\n",
    "plt.plot(np.log(bins[1][1:]), np.log(bins[0]));"
   ]
  },
  {
   "cell_type": "markdown",
   "id": "02e4d728",
   "metadata": {},
   "source": [
    "### Fitting a line to estimate `alpha`"
   ]
  },
  {
   "cell_type": "code",
   "execution_count": 10,
   "id": "9ef96a76",
   "metadata": {},
   "outputs": [],
   "source": [
    "from sklearn.linear_model import LinearRegression"
   ]
  },
  {
   "cell_type": "code",
   "execution_count": 11,
   "id": "a2e4ce71",
   "metadata": {},
   "outputs": [
    {
     "data": {
      "image/png": "[encoded data removed]",
      "text/plain": [
       "<Figure size 432x288 with 1 Axes>"
      ]
     },
     "metadata": {
      "needs_background": "light"
     },
     "output_type": "display_data"
    }
   ],
   "source": [
    "\n",
    "model = LinearRegression()\n",
    "model.fit(np.log(bins[1][1:]).reshape(-1,1), np.log(bins[0]))\n",
    "x = np.linspace(1.2, 4.6, 100).reshape(-1,1)\n",
    "y = model.predict(x)\n",
    "\n",
    "\n",
    "plt.scatter(np.log(bins[1][1:]), np.log(bins[0]))\n",
    "plt.plot(np.log(bins[1][1:]), np.log(bins[0]))\n",
    "\n",
    "plt.plot(x, y, c='r', label=f'alpha = {np.round(model.coef_[0], 3)}')\n",
    "plt.legend();"
   ]
  },
  {
   "cell_type": "code",
   "execution_count": null,
   "id": "964a0edb",
   "metadata": {},
   "outputs": [],
   "source": []
  },
  {
   "cell_type": "markdown",
   "id": "f011e665",
   "metadata": {},
   "source": [
    "# Home reading\n",
    "\n",
    "\"Scale-free networks are rare\", Anna D. Broido, Aaron Clauset https://www.nature.com/articles/s41467-019-08746-5"
   ]
  },
  {
   "cell_type": "code",
   "execution_count": null,
   "id": "1a037ded",
   "metadata": {},
   "outputs": [],
   "source": []
  },
  {
   "cell_type": "markdown",
   "id": "9e1e7f77",
   "metadata": {},
   "source": [
    "# 2. Build graphs in 3 popular libraries\n",
    "\n",
    "# 2.1 `networkx`"
   ]
  },
  {
   "cell_type": "code",
   "execution_count": 12,
   "id": "7f0e78e5",
   "metadata": {},
   "outputs": [],
   "source": [
    "import networkx as nx"
   ]
  },
  {
   "cell_type": "code",
   "execution_count": 13,
   "id": "eb094095",
   "metadata": {},
   "outputs": [],
   "source": [
    "edges = [\n",
    "    (1, 2),\n",
    "    (1, 3),\n",
    "    (2, 3),\n",
    "    (4, 5),\n",
    "    (4, 6),\n",
    "    (5, 6),\n",
    "    (1, 4),\n",
    "]\n",
    "df_edges = pd.DataFrame(data=edges, columns=['source', 'target'])"
   ]
  },
  {
   "cell_type": "code",
   "execution_count": 14,
   "id": "da9af200",
   "metadata": {},
   "outputs": [],
   "source": [
    "G = nx.from_pandas_edgelist(df_edges)"
   ]
  },
  {
   "cell_type": "code",
   "execution_count": 15,
   "id": "d28feb6e",
   "metadata": {},
   "outputs": [],
   "source": [
    "# dir(G)"
   ]
  },
  {
   "cell_type": "code",
   "execution_count": 16,
   "id": "dd26e807",
   "metadata": {},
   "outputs": [],
   "source": [
    "adjacency = np.array(nx.adjacency_matrix(G).todense())\n",
    "pos = nx.layout.fruchterman_reingold_layout(G)"
   ]
  },
  {
   "cell_type": "code",
   "execution_count": 17,
   "id": "4339788d",
   "metadata": {},
   "outputs": [
    {
     "data": {
      "image/png": "[encoded data removed]",
      "text/plain": [
       "<Figure size 432x288 with 1 Axes>"
      ]
     },
     "metadata": {},
     "output_type": "display_data"
    }
   ],
   "source": [
    "nx.draw(G, pos=pos)"
   ]
  },
  {
   "cell_type": "code",
   "execution_count": null,
   "id": "b559b214",
   "metadata": {},
   "outputs": [],
   "source": []
  },
  {
   "cell_type": "markdown",
   "id": "33a8117d",
   "metadata": {},
   "source": [
    "# 2.2 `igraph`"
   ]
  },
  {
   "cell_type": "code",
   "execution_count": 18,
   "id": "4a6e91a4",
   "metadata": {},
   "outputs": [],
   "source": [
    "from igraph import Graph, ADJ_MAX"
   ]
  },
  {
   "cell_type": "code",
   "execution_count": 19,
   "id": "1b9d0392",
   "metadata": {},
   "outputs": [
    {
     "data": {
      "image/png": "[encoded data removed]",
      "text/plain": [
       "<Figure size 432x288 with 2 Axes>"
      ]
     },
     "metadata": {
      "needs_background": "light"
     },
     "output_type": "display_data"
    }
   ],
   "source": [
    "plt.imshow(adjacency)\n",
    "plt.colorbar();"
   ]
  },
  {
   "cell_type": "code",
   "execution_count": 20,
   "id": "141b7b18",
   "metadata": {},
   "outputs": [],
   "source": [
    "g0 = Graph.Weighted_Adjacency(\n",
    "            adjacency.tolist(), mode=ADJ_MAX, attr='weight')"
   ]
  },
  {
   "cell_type": "code",
   "execution_count": 21,
   "id": "37894857",
   "metadata": {},
   "outputs": [],
   "source": [
    "# dir(g0)"
   ]
  },
  {
   "cell_type": "code",
   "execution_count": 22,
   "id": "76f0a30c",
   "metadata": {},
   "outputs": [],
   "source": [
    "pos = g0.layout_fruchterman_reingold()\n",
    "pos = dict(zip(range(1,7), pos.coords))"
   ]
  },
  {
   "cell_type": "markdown",
   "id": "32ccc14b",
   "metadata": {},
   "source": [
    "### `igraph` was originally designed for R language, so for plotting let's use `networkx` routines"
   ]
  },
  {
   "cell_type": "code",
   "execution_count": 23,
   "id": "5f533459",
   "metadata": {},
   "outputs": [
    {
     "data": {
      "image/png": "[encoded data removed]",
      "text/plain": [
       "<Figure size 432x288 with 1 Axes>"
      ]
     },
     "metadata": {},
     "output_type": "display_data"
    }
   ],
   "source": [
    "nx.draw(G, pos=pos)"
   ]
  },
  {
   "cell_type": "markdown",
   "id": "33a37724",
   "metadata": {},
   "source": [
    "# 2.3 `pytorch-geometric`"
   ]
  },
  {
   "cell_type": "code",
   "execution_count": 24,
   "id": "71a35808",
   "metadata": {},
   "outputs": [],
   "source": [
    "import torch\n",
    "from torch_geometric.data import Data\n",
    "import torch_geometric"
   ]
  },
  {
   "cell_type": "code",
   "execution_count": 25,
   "id": "602fd87d",
   "metadata": {},
   "outputs": [],
   "source": [
    "# create edge index from nx graph\n",
    "\n",
    "adj = nx.to_scipy_sparse_matrix(G).tocoo()\n",
    "row = torch.from_numpy(adj.row.astype(np.int64)).to(torch.long)\n",
    "col = torch.from_numpy(adj.col.astype(np.int64)).to(torch.long)\n",
    "edge_index = torch.stack([row, col], dim=0)"
   ]
  },
  {
   "cell_type": "code",
   "execution_count": 26,
   "id": "7586b8e0",
   "metadata": {},
   "outputs": [],
   "source": [
    "# pytorch-geometric allow for features both on vertices and on edges\n",
    "x = torch.tensor([[-1], [0], [1], [1], [-1], [0]], dtype=torch.float)\n",
    "\n",
    "data = Data(x=x, edge_index=edge_index)"
   ]
  },
  {
   "cell_type": "code",
   "execution_count": 27,
   "id": "158a5a80",
   "metadata": {},
   "outputs": [],
   "source": [
    "# dir(data)"
   ]
  },
  {
   "cell_type": "code",
   "execution_count": 28,
   "id": "6e0c5fbf",
   "metadata": {},
   "outputs": [
    {
     "data": {
      "image/png": "[encoded data removed]",
      "text/plain": [
       "<Figure size 432x288 with 1 Axes>"
      ]
     },
     "metadata": {},
     "output_type": "display_data"
    }
   ],
   "source": [
    "g = torch_geometric.utils.to_networkx(data, to_undirected=True)\n",
    "nx.draw(g)"
   ]
  },
  {
   "cell_type": "code",
   "execution_count": null,
   "id": "0d0dd474",
   "metadata": {},
   "outputs": [],
   "source": []
  },
  {
   "cell_type": "markdown",
   "id": "439896f8",
   "metadata": {},
   "source": [
    "# 3. Домашнее задание\n",
    "\n",
    "Визуализировать граф соавторств ИТИСа:\n",
    "- выделить гигантскую компоненту связности\n",
    "- визуализировать GCC используя любой метод укладки на выбор (методы igraph работают быстрее):\n",
    "    - `dir(nx.layout)`\n",
    "    - `[d for d in dir(igraph.Graph) if d.startswith('layout_')]`\n",
    "- на изображении подписать 10 вершин (авторов) с наибольшей степенью вершины"
   ]
  },
  {
   "cell_type": "code",
   "execution_count": null,
   "id": "c6001cf5",
   "metadata": {},
   "outputs": [],
   "source": []
  }
 ],
 "metadata": {
  "kernelspec": {
   "display_name": "Python 3",
   "language": "python",
   "name": "python3"
  },
  "language_info": {
   "codemirror_mode": {
    "name": "ipython",
    "version": 3
   },
   "file_extension": ".py",
   "mimetype": "text/x-python",
   "name": "python",
   "nbconvert_exporter": "python",
   "pygments_lexer": "ipython3",
   "version": "3.8.8"
  }
 },
 "nbformat": 4,
 "nbformat_minor": 5
}
