{
 "cells": [
  {
   "cell_type": "markdown",
   "id": "cdd055bd",
   "metadata": {},
   "source": [
    "# Centrality measures computation"
   ]
  },
  {
   "cell_type": "code",
   "execution_count": null,
   "id": "d523f0c7",
   "metadata": {},
   "outputs": [],
   "source": [
    "import numpy as np\n",
    "import pandas as pd\n",
    "import networkx as nx\n",
    "from pathlib import Path"
   ]
  },
  {
   "cell_type": "code",
   "execution_count": null,
   "id": "64cb4814",
   "metadata": {},
   "outputs": [],
   "source": [
    "# ITAS graph construction\n",
    "\n",
    "fname = Path('/home/anvar/projects/iitp_networks1/2019/assignments/itas_2009-2017_v8.xls')\n",
    "itas_all = pd.read_excel(fname)\n",
    "title_author = itas_all.groupby(by=['title', 'author_id_new']).count().reset_index()\n",
    "authors, titles = title_author.title, title_author.author_id_new\n",
    "\n",
    "inc_table = pd.crosstab(authors, titles)\n",
    "inc_table.head(5).iloc[:, :5]\n",
    "\n",
    "adjacency_matrix = inc_table.values.dot(inc_table.values.T)\n",
    "n_papers = np.diag(adjacency_matrix)\n",
    "np.fill_diagonal(adjacency_matrix, 0)\n",
    "adjacency_matrix[adjacency_matrix>1] = 1"
   ]
  },
  {
   "cell_type": "code",
   "execution_count": null,
   "id": "4b551be1",
   "metadata": {},
   "outputs": [],
   "source": [
    "nx_graph = nx.Graph(adjacency_matrix)"
   ]
  },
  {
   "cell_type": "code",
   "execution_count": null,
   "id": "2f0a65d9",
   "metadata": {},
   "outputs": [],
   "source": [
    "dgr = nx.degree_centrality(nx_graph)"
   ]
  },
  {
   "cell_type": "code",
   "execution_count": null,
   "id": "64b947c8",
   "metadata": {},
   "outputs": [],
   "source": [
    "btw = nx.betweenness_centrality(nx_graph)"
   ]
  },
  {
   "cell_type": "code",
   "execution_count": null,
   "id": "1c15cf31",
   "metadata": {},
   "outputs": [],
   "source": [
    "hrm = nx.harmonic_centrality(nx_graph)"
   ]
  },
  {
   "cell_type": "code",
   "execution_count": null,
   "id": "9326152d",
   "metadata": {},
   "outputs": [],
   "source": [
    "cls = nx.closeness_centrality(nx_graph)"
   ]
  },
  {
   "cell_type": "code",
   "execution_count": null,
   "id": "9f6887b1",
   "metadata": {},
   "outputs": [],
   "source": [
    "pgr = nx.pagerank(nx_graph)"
   ]
  },
  {
   "cell_type": "code",
   "execution_count": null,
   "id": "90a01f7e",
   "metadata": {},
   "outputs": [],
   "source": [
    "eig = nx.eigenvector_centrality(nx_graph, max_iter=100, tol=1e-3)"
   ]
  },
  {
   "cell_type": "code",
   "execution_count": null,
   "id": "f947a6cd",
   "metadata": {},
   "outputs": [],
   "source": []
  },
  {
   "cell_type": "code",
   "execution_count": null,
   "id": "72f1a5fc",
   "metadata": {},
   "outputs": [],
   "source": [
    "from igraph import Graph, ADJ_MAX"
   ]
  },
  {
   "cell_type": "code",
   "execution_count": null,
   "id": "0b1671ba",
   "metadata": {},
   "outputs": [],
   "source": [
    "g0 = Graph.Weighted_Adjacency(adjacency_matrix.tolist(), mode=ADJ_MAX, attr='weight')"
   ]
  },
  {
   "cell_type": "code",
   "execution_count": null,
   "id": "ac454502",
   "metadata": {},
   "outputs": [],
   "source": [
    "g0.degree()\n",
    "g0.betweenness()\n",
    "g0.harmonic_centrality()\n",
    "g0.closeness()\n",
    "g0.pagerank()\n",
    "g0.eigenvector_centrality();"
   ]
  },
  {
   "cell_type": "code",
   "execution_count": null,
   "id": "cd4831a5",
   "metadata": {},
   "outputs": [],
   "source": []
  },
  {
   "cell_type": "markdown",
   "id": "0a4a5e26",
   "metadata": {},
   "source": [
    "# Домашнее задание"
   ]
  },
  {
   "cell_type": "markdown",
   "id": "48915f3a",
   "metadata": {},
   "source": [
    "1. Сравните скорость работы методов подсчета метрик центральностей с помощью networkx и igraph\n",
    "2. (*) Совпадают ли значения полученные разными пакетами для разных центральностей? Если нет, то какие различаются и почему?\n",
    "\n",
    "---\n",
    "\n",
    "Анализ эгоцентрического графа вконтакте:\n",
    "1. Постройте свой эгоцентрический граф вконтакте (см. нотбук `networks-2021-build-vk-graph`), скачивайте информацию о поле (это потребуется для решения задачи классификации)\n",
    "2. Приведите краткую характеристику графа: число вершин, число ребер, число связных компонент\n",
    "3. Посчитайте метрики центральности: degree, betweenness, harmonic, closeness, eigenvector, pagerank для каждой вершины графа\n",
    "4. Дайте краткое описание полученным результатам: какие ваши друзья оказались в топе по разным метрикам?\n",
    "5. (*) Визуализируйте свой граф вконтакте, подписав отдельных друзей оказавшихся в топе по каким-то метрикам центральности (на ваш выбор). Для визуализации можно использовать layout'ы networkx, которые можно вручную довести до ума в `Gephi` \n",
    "6. Постройте классификатор поля `Sex` пользователя используя в качестве признакового описания вершины 5 метрик центральности: betweenness, harmonic, closeness, eigenvector, pagerank. **Важно:** используйте именно эти центральности именно в таком порядке!\n",
    "7. Сохраните 2 таблички: Информация о пользователях, список ребер (см. нотбук `networks-2021-build-vk-graph`)\n",
    "\n",
    "В качестве решения пришлите на почту kurmukovai@gmail.com с темой письма  `iitp-networks-2021-hw2-Фамилия` архив содержащий jupyter-notebook с решением и две таблицы сохраненные в п.7. Предварительно удалите из нотбука поле `access_token` (или обновите его внутри созданного приложения vk). "
   ]
  },
  {
   "cell_type": "code",
   "execution_count": null,
   "id": "ffd9b2a3",
   "metadata": {},
   "outputs": [],
   "source": []
  },
  {
   "cell_type": "code",
   "execution_count": null,
   "id": "337d9c97",
   "metadata": {},
   "outputs": [],
   "source": []
  }
 ],
 "metadata": {
  "kernelspec": {
   "display_name": "Python 3",
   "language": "python",
   "name": "python3"
  },
  "language_info": {
   "codemirror_mode": {
    "name": "ipython",
    "version": 3
   },
   "file_extension": ".py",
   "mimetype": "text/x-python",
   "name": "python",
   "nbconvert_exporter": "python",
   "pygments_lexer": "ipython3",
   "version": "3.8.8"
  }
 },
 "nbformat": 4,
 "nbformat_minor": 5
}
