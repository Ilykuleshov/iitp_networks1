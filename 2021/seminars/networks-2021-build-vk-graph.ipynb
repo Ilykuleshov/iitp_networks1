{
 "cells": [
  {
   "cell_type": "markdown",
   "id": "d9c6fce1",
   "metadata": {},
   "source": [
    "# 1. VK Social network analysis\n",
    "\n",
    "\n",
    "## 1.1 Download your vk friends information \n",
    "\n",
    "1. You need to get access token, go here https://vk.com/dev and create stand alone application\n",
    "    - Мои приложения\n",
    "    - Создать приложение\n",
    "    - Standalone\n",
    "\n",
    "\n",
    "2. Access token можно найти в разделе Настройки вашего приложения, вам нужен тот который `Сервисный ключ доступа`\n",
    "\n",
    "3. List of api methods https://vk.com/dev/methods\n",
    "4. We will mainly use `friends.get` and `users.get`"
   ]
  },
  {
   "cell_type": "code",
   "execution_count": null,
   "id": "c1fd9a4b",
   "metadata": {},
   "outputs": [],
   "source": [
    "import json\n",
    "import requests"
   ]
  },
  {
   "cell_type": "code",
   "execution_count": null,
   "id": "1c1e8771",
   "metadata": {},
   "outputs": [],
   "source": [
    "def get_friends_info(user_id, access_token, fields=None):\n",
    "    if fields is None:\n",
    "        fields = 'sex'\n",
    "    api = 'https://api.vk.com/method/'\n",
    "    friends_url = f'{api}friends.get?fields={fields}&user_id={user_id}&access_token={access_token}&v=5.131'\n",
    "    json_response = requests.get(friends_url).json()\n",
    "    if json_response.get('error'):\n",
    "        raise KeyError(f'Inable to access {user_id} friends.')\n",
    "\n",
    "    return json_response[u'response'], friends_url"
   ]
  },
  {
   "cell_type": "code",
   "execution_count": null,
   "id": "3cc391b8",
   "metadata": {},
   "outputs": [],
   "source": [
    "user_id = 11986950\n",
    "fields = 'sex,city,education,bdate' # check https://vk.com/dev/users.get for all possible fields values\n",
    "access_token = '' # put your token\n",
    "\n",
    "\n",
    "mates, url = get_friends_info(user_id, access_token, fields)"
   ]
  },
  {
   "cell_type": "code",
   "execution_count": null,
   "id": "e27512a7",
   "metadata": {},
   "outputs": [],
   "source": [
    "mates['count']"
   ]
  },
  {
   "cell_type": "code",
   "execution_count": null,
   "id": "e5290b11",
   "metadata": {},
   "outputs": [],
   "source": [
    "len(mates['items'])"
   ]
  },
  {
   "cell_type": "code",
   "execution_count": null,
   "id": "2eba5b00",
   "metadata": {},
   "outputs": [],
   "source": [
    "mates['items'][1]"
   ]
  },
  {
   "cell_type": "code",
   "execution_count": null,
   "id": "a2d21c08",
   "metadata": {},
   "outputs": [],
   "source": []
  },
  {
   "cell_type": "markdown",
   "id": "6d83d7b2",
   "metadata": {},
   "source": [
    "## 1.2 Build an egocentric graph\n",
    "\n",
    "\n",
    "\n",
    "Вам нужно самостоятельно написать функцию, которая из списка ваших друзей и их друзей построит такую сеть, что:\n",
    "- каждая вершина в ней - ваш друг\n",
    "- ребро между двумя друзьями возникает только в случае если они друг у друга в друзьях\n",
    "\n",
    "Дополнительную информацию в принципе вытаскивать не обязательно, но вам может быть интересно посмотреть повышает ли одинаковый пол/возраст/школа вероятность быть друг у друга в друзьях или нет. Это называется **homophily** https://en.wikipedia.org/wiki/Network_homophily \n",
    "\n",
    "> Поскольку вам нужно будет запустить `get_friends_info` столько раз сколько у вас друзей, это может занять какое-то время, и после обработки информацию о графе лучше сохранить.\n",
    "\n",
    "Хранить такой граф удобно ввиде списка ребер, то есть таблицы с двумя колонками:\n",
    "\n",
    "| Вершина 1 | Вершина 2 |\n",
    "|---|---|\n",
    "|user_id_1| user_id_2|\n",
    "|user_id_1| user_id_3|\n",
    "|user_id_2| user_id_3|\n",
    "\n",
    "Информацию о пользователях удобно хранить в отдельной таблице:\n",
    "\n",
    "| User id | Name | Sex | Birthday |\n",
    "|---|---|---|---|\n",
    "|user_id_1| Anastasia | Female | 01.02.2003 |\n",
    "|user_id_2| Alex |Male| 21.01.1999|\n",
    "|user_id_3| Yulia|Female| 06.05.2001|\n"
   ]
  },
  {
   "cell_type": "code",
   "execution_count": null,
   "id": "c07ca15b",
   "metadata": {},
   "outputs": [],
   "source": []
  }
 ],
 "metadata": {
  "kernelspec": {
   "display_name": "Python 3",
   "language": "python",
   "name": "python3"
  },
  "language_info": {
   "codemirror_mode": {
    "name": "ipython",
    "version": 3
   },
   "file_extension": ".py",
   "mimetype": "text/x-python",
   "name": "python",
   "nbconvert_exporter": "python",
   "pygments_lexer": "ipython3",
   "version": "3.8.8"
  }
 },
 "nbformat": 4,
 "nbformat_minor": 5
}
