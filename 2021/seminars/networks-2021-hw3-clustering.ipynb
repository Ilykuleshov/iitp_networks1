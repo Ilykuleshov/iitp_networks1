{
 "cells": [
  {
   "cell_type": "markdown",
   "id": "9891823b",
   "metadata": {},
   "source": [
    "# Community detection using Spectral Clustering\n",
    "\n",
    "Given graph $G$ with $n$ nodes, find non-overlapping node \"communities\": $k$ groups of nodes that are densely intra connected and have low number of inter connections.\n",
    "\n",
    "- Compute square diagonal matrix of node degrees $D$. \n",
    "    $$D_{ii} = \\sum_i A_{ij}, D_{ij} = 0, i \\neq j$$\n",
    "- Construct graph Laplacian \n",
    "    $$L_{unnormed} = D - A$$\n",
    "Find $0 = \\lambda_0 \\leq \\lambda_1 \\leq \\lambda_2 \\leq \\ldots \\leq \\lambda_m$ smallest eigenvalues of $L$ and construct matrix $X$ by stacking $m$ corresponding eigenvectors ($v_1, \\ldots v_m$) as columns of $X$. Matrix $X$ has size $n \\times m$, its rows are \"spectral representaion\" of graph nodes.\n",
    "   \n",
    "- Run k-means algorithm on matrix X and assign nodes with labels obtained by k-means.\n",
    "\n",
    "---\n",
    "\n",
    "Use 3 versions of a Laplacian:\n",
    "\n",
    "- Unnormalized Laplacian: $L = D - A$\n",
    "- Symmetric normalization: $L_{sym} = I - D^{-\\frac{1}{2}} \\cdot A \\cdot D^{-\\frac{1}{2}}$\n",
    "- Random Walk normalization: $L_{rw} = I - D^{-1} \\cdot A$\n",
    "    \n",
    "Sources:\n",
    "1. Andrew Ng paper on spectral clustering https://ai.stanford.edu/~ang/papers/nips01-spectral.pdf\n",
    "2. Tutorial on spectral clustering with multiple theoretical views on the problem https://arxiv.org/abs/0711.0189\n",
    "3. Amazing explanation from James R. Lee https://www.youtube.com/watch?v=8XJes6XFjxM"
   ]
  },
  {
   "cell_type": "code",
   "execution_count": null,
   "id": "9d55d187",
   "metadata": {},
   "outputs": [],
   "source": []
  },
  {
   "cell_type": "markdown",
   "id": "60bad43f",
   "metadata": {},
   "source": [
    "## 1. Compare 3 versions of Spectral clustering on `Karate Club dataset`\n",
    "    \n",
    "Implement 3 algorithms described in https://arxiv.org/abs/0711.0189 :\n",
    "\n",
    "1. Unnormalized spectral clustering \n",
    "2. Normalized spectral clustering according to Shi and Malik (2000)\n",
    "3. Normalized spectral clustering according to Ng, Jordan, and Weiss (2002)\n",
    "\n",
    "using `Adjusted Rand Index` (3 pairwise comparisons), `Modularity` (3 numbers) and visually, plotting points in a corresponding 2 dimensional spaces (spanned by eigenvectors).\n",
    "\n",
    "Theoretical questions:\n",
    "\n",
    "4. Why does the smallest eigenvalue of unnormalized Laplacian is always equal to 0? \n",
    "5. From network point of view, what does Symmetric normalization do? \n",
    "6. Under what conditions Symmetric and Random walk normalizations yield the same result? \n",
    "  "
   ]
  },
  {
   "cell_type": "code",
   "execution_count": null,
   "id": "ba1c88cd",
   "metadata": {},
   "outputs": [],
   "source": []
  },
  {
   "cell_type": "code",
   "execution_count": null,
   "id": "bce2cb09",
   "metadata": {},
   "outputs": [],
   "source": []
  },
  {
   "cell_type": "code",
   "execution_count": null,
   "id": "de88dcdd",
   "metadata": {},
   "outputs": [],
   "source": []
  },
  {
   "cell_type": "markdown",
   "id": "05addacf",
   "metadata": {},
   "source": [
    "# 2. Кластеризация графа  VK\n",
    "\n",
    "1. Воспользуйтесь имплементированными алгоритмами Spectral Clustering чтобы найти сообщества вершин своей эгоцентрической сети VK\n",
    "2. Воспользуйтесь алгоритмом Louvain чтобы найти сообщества своей эгоцентрической сети VK https://github.com/taynaud/python-louvain ИЛИ из пакета igraph.\n",
    "3. Сравните результаты в терминах ARI, AMI, Modularity, а так же прокомментируйте полученные сообщества самостоятельно, получились ли они интерпретируемыми? Реализации ARI и AMI есть в `sklearn`"
   ]
  },
  {
   "cell_type": "code",
   "execution_count": null,
   "id": "12fb2ab4",
   "metadata": {},
   "outputs": [],
   "source": []
  },
  {
   "cell_type": "code",
   "execution_count": null,
   "id": "c1ef0272",
   "metadata": {},
   "outputs": [],
   "source": []
  },
  {
   "cell_type": "code",
   "execution_count": null,
   "id": "f296ed16",
   "metadata": {},
   "outputs": [],
   "source": []
  },
  {
   "cell_type": "code",
   "execution_count": null,
   "id": "1ca359ca",
   "metadata": {},
   "outputs": [],
   "source": []
  },
  {
   "cell_type": "markdown",
   "id": "6c5dac20",
   "metadata": {},
   "source": [
    "# 3. Отправка решения.\n",
    "\n",
    "\n",
    "1. Прогоните свой jupyter notebook: **Kernel** $\\rightarrow$ **Restart & Run all**, нотбук **должен** запускаться линейно! Если вы считали эмбединги прямо в нотбуке, можете закоментить соответствующие ячейки. Во втором домашнем задании я **буду** снижать оценку если вы не сделали Restart & Run All.\n",
    "2. Назовите нотбук `Имя_Фамилия_HW3_networks_2020`, например `Anvar_Kurmukov_HW3_networks_2021`\n",
    "4. Сохраните нотбук в формате `ipython`.\n",
    "5. Отправьте файл с нотбуком на почту kurmukovai@gmail.com с темой письма `iitp-networks-2021-Имя_Фамилия_HW3`.\n",
    "\n",
    "---\n",
    "\n",
    "## Комментарии к решению и выставлению оценки.\n",
    "Ваш файл с решением должно быть **комфортно читать**:\n",
    "- **комментируйте** происходящее, лучше всего для этого подходит markdown cells, но можно и в комментариях в ячейках с кодом. Под комментируйте имеется ввиду написание выводов на естественном языке доступном проверяющему (русский или английский). Например, вы нарисовали двумерное вложение и на картинке ничего не понятно, все смешано, это нормально (хотя во втором пункте можно получить более менее неплохое вложение), так и напишите \"Не получилось построить...\".\n",
    "- не нужно оставлять все отладочные ячейки нотбука, сохраните свою работу отдельно, а в файле которые отправляете в качестве решения оставьте только нужное.\n",
    "- **округляйте** значения характеристик точности и модулярности до нескольких значащих цифр (столько сколько целесообразно в каждом отдельном случае), но не более 6."
   ]
  },
  {
   "cell_type": "code",
   "execution_count": null,
   "id": "6304100f",
   "metadata": {},
   "outputs": [],
   "source": []
  }
 ],
 "metadata": {
  "kernelspec": {
   "display_name": "Python 3",
   "language": "python",
   "name": "python3"
  },
  "language_info": {
   "codemirror_mode": {
    "name": "ipython",
    "version": 3
   },
   "file_extension": ".py",
   "mimetype": "text/x-python",
   "name": "python",
   "nbconvert_exporter": "python",
   "pygments_lexer": "ipython3",
   "version": "3.8.8"
  }
 },
 "nbformat": 4,
 "nbformat_minor": 5
}
