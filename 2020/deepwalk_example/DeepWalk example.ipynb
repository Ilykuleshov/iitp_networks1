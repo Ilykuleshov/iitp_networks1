{
 "cells": [
  {
   "cell_type": "markdown",
   "metadata": {},
   "source": [
    "# Before we start\n",
    "\n",
    "# 3 Major ML/DS breakthroughs of the last decade - 2 decades\n",
    "\n",
    "1. Trainable convolutions\n",
    "    - Image classification\n",
    "    - Image segmentation\n",
    "    - DeepFake\n",
    "    - Snapchat\n",
    "    - Face detection\n",
    "    - ...\n",
    "---\n",
    "    \n",
    "2. Unsupervised approach to learn words vector representation\n",
    "    - Sentimental analysis\n",
    "    - Machine translation\n",
    "    - Text generation (fake news, fake comment/review)\n",
    "    - Image captioning\n",
    "    - Text2Voice, Voice2Text\n",
    "    - Chat bots\n",
    "\n",
    "    \n",
    "---\n",
    "\n",
    "3. Agent based learning\n",
    "    - AlphaZero\n",
    "    - MuZero\n",
    "    - ...\n",
    "\n",
    "_Upcoming..._\n",
    "\n",
    "4. Self-driving cars\n",
    "\n",
    "---"
   ]
  },
  {
   "cell_type": "code",
   "execution_count": null,
   "metadata": {},
   "outputs": [],
   "source": []
  },
  {
   "cell_type": "code",
   "execution_count": null,
   "metadata": {},
   "outputs": [],
   "source": []
  },
  {
   "cell_type": "code",
   "execution_count": null,
   "metadata": {},
   "outputs": [],
   "source": []
  },
  {
   "cell_type": "code",
   "execution_count": null,
   "metadata": {},
   "outputs": [],
   "source": []
  },
  {
   "cell_type": "code",
   "execution_count": null,
   "metadata": {},
   "outputs": [],
   "source": []
  },
  {
   "cell_type": "code",
   "execution_count": null,
   "metadata": {},
   "outputs": [],
   "source": []
  },
  {
   "cell_type": "markdown",
   "metadata": {},
   "source": [
    "# DeepWalk\n",
    "\n",
    "## Idea:\n",
    "\n",
    "Generate node embeddings by constructing a `words` from nodes using a random walk and running a `word2vec` on a resulting corpora.\n",
    "\n",
    "---\n",
    "\n",
    "- Paper https://arxiv.org/pdf/1403.6652.pdf\n",
    "- Python implementation https://github.com/phanein/deepwalk\n",
    "- C++ https://github.com/xgfs/deepwalk-c"
   ]
  },
  {
   "cell_type": "code",
   "execution_count": 1,
   "metadata": {},
   "outputs": [
    {
     "name": "stdout",
     "output_type": "stream",
     "text": [
      "usage: deepwalk [-h] [--debug] [--format FORMAT] --input [INPUT] [-l LOG]\r\n",
      "                [--matfile-variable-name MATFILE_VARIABLE_NAME]\r\n",
      "                [--max-memory-data-size MAX_MEMORY_DATA_SIZE]\r\n",
      "                [--number-walks NUMBER_WALKS] --output OUTPUT\r\n",
      "                [--representation-size REPRESENTATION_SIZE] [--seed SEED]\r\n",
      "                [--undirected UNDIRECTED] [--vertex-freq-degree]\r\n",
      "                [--walk-length WALK_LENGTH] [--window-size WINDOW_SIZE]\r\n",
      "                [--workers WORKERS]\r\n",
      "\r\n",
      "optional arguments:\r\n",
      "  -h, --help            show this help message and exit\r\n",
      "  --debug               drop a debugger if an exception is raised. (default:\r\n",
      "                        False)\r\n",
      "  --format FORMAT       File format of input file (default: adjlist)\r\n",
      "  --input [INPUT]       Input graph file (default: None)\r\n",
      "  -l LOG, --log LOG     log verbosity level (default: INFO)\r\n",
      "  --matfile-variable-name MATFILE_VARIABLE_NAME\r\n",
      "                        variable name of adjacency matrix inside a .mat file.\r\n",
      "                        (default: network)\r\n",
      "  --max-memory-data-size MAX_MEMORY_DATA_SIZE\r\n",
      "                        Size to start dumping walks to disk, instead of\r\n",
      "                        keeping them in memory. (default: 1000000000)\r\n",
      "  --number-walks NUMBER_WALKS\r\n",
      "                        Number of random walks to start at each node (default:\r\n",
      "                        10)\r\n",
      "  --output OUTPUT       Output representation file (default: None)\r\n",
      "  --representation-size REPRESENTATION_SIZE\r\n",
      "                        Number of latent dimensions to learn for each node.\r\n",
      "                        (default: 64)\r\n",
      "  --seed SEED           Seed for random walk generator. (default: 0)\r\n",
      "  --undirected UNDIRECTED\r\n",
      "                        Treat graph as undirected. (default: True)\r\n",
      "  --vertex-freq-degree  Use vertex degree to estimate the frequency of nodes\r\n",
      "                        in the random walks. This option is faster than\r\n",
      "                        calculating the vocabulary. (default: False)\r\n",
      "  --walk-length WALK_LENGTH\r\n",
      "                        Length of the random walk started at each node\r\n",
      "                        (default: 40)\r\n",
      "  --window-size WINDOW_SIZE\r\n",
      "                        Window size of skipgram model. (default: 5)\r\n",
      "  --workers WORKERS     Number of parallel processes. (default: 1)\r\n"
     ]
    }
   ],
   "source": [
    "# install Python implementation\n",
    "\n",
    "!deepwalk --help"
   ]
  },
  {
   "cell_type": "code",
   "execution_count": 2,
   "metadata": {},
   "outputs": [],
   "source": [
    "import networkx as nx"
   ]
  },
  {
   "cell_type": "code",
   "execution_count": 3,
   "metadata": {},
   "outputs": [],
   "source": [
    "# get karate club graph https://en.wikipedia.org/wiki/Zachary%27s_karate_club\n",
    "\n",
    "karate = nx.karate_club_graph()"
   ]
  },
  {
   "cell_type": "code",
   "execution_count": 7,
   "metadata": {},
   "outputs": [
    {
     "data": {
      "text/plain": [
       "array([[0, 1, 1, ..., 1, 0, 0],\n",
       "       [1, 0, 1, ..., 0, 0, 0],\n",
       "       [1, 1, 0, ..., 0, 1, 0],\n",
       "       ...,\n",
       "       [1, 0, 0, ..., 0, 1, 1],\n",
       "       [0, 0, 1, ..., 1, 0, 1],\n",
       "       [0, 0, 0, ..., 1, 1, 0]])"
      ]
     },
     "execution_count": 7,
     "metadata": {},
     "output_type": "execute_result"
    }
   ],
   "source": [
    "nx.adj_matrix(karate).toarray()"
   ]
  },
  {
   "cell_type": "code",
   "execution_count": 8,
   "metadata": {},
   "outputs": [],
   "source": [
    "# store as an edgelist\n",
    "\n",
    "with open('karate.edgelist', 'w') as f:\n",
    "    for edge in karate.edges:\n",
    "        f.write(f'{edge[0]} {edge[1]}\\n')"
   ]
  },
  {
   "cell_type": "code",
   "execution_count": 9,
   "metadata": {},
   "outputs": [],
   "source": [
    "# karate_good.embeddings one of the good representations"
   ]
  },
  {
   "cell_type": "code",
   "execution_count": 10,
   "metadata": {},
   "outputs": [
    {
     "name": "stdout",
     "output_type": "stream",
     "text": [
      "Number of nodes: 34\r\n",
      "Number of walks: 340\r\n",
      "Data size (walks*length): 13600\r\n",
      "Walking...\r\n",
      "Training...\r\n"
     ]
    }
   ],
   "source": [
    "# run a deepwalk\n",
    "\n",
    "!deepwalk --seed 41 --representation-size 32 --format edgelist --input karate.edgelist --output karate.embeddings"
   ]
  },
  {
   "cell_type": "code",
   "execution_count": 11,
   "metadata": {},
   "outputs": [],
   "source": [
    "import numpy as np"
   ]
  },
  {
   "cell_type": "code",
   "execution_count": 12,
   "metadata": {},
   "outputs": [],
   "source": [
    "# load resulting embedding\n",
    "\n",
    "with open('karate.embeddings', 'r') as f:\n",
    "    # first line is a header containing `number of nodes` and `embeddings size`\n",
    "    n, m = map(int, f.readline().split())\n",
    "    node_embeddings = np.zeros((n, m))\n",
    "    # remaining lines are node_id and embedding vector components\n",
    "    for line in f.readlines():   \n",
    "        node_id, *emb = line.split(' ')\n",
    "        node_embeddings[int(node_id)] = list(map(float, emb))"
   ]
  },
  {
   "cell_type": "code",
   "execution_count": 13,
   "metadata": {},
   "outputs": [],
   "source": [
    "import matplotlib.pyplot as plt\n",
    "%matplotlib inline"
   ]
  },
  {
   "cell_type": "code",
   "execution_count": 14,
   "metadata": {},
   "outputs": [],
   "source": [
    "from sklearn.manifold import TSNE\n",
    "from sklearn.cluster import KMeans"
   ]
  },
  {
   "cell_type": "code",
   "execution_count": 17,
   "metadata": {},
   "outputs": [
    {
     "data": {
      "text/plain": [
       "(34, 32)"
      ]
     },
     "execution_count": 17,
     "metadata": {},
     "output_type": "execute_result"
    }
   ],
   "source": [
    "node_embeddings.shape"
   ]
  },
  {
   "cell_type": "code",
   "execution_count": 18,
   "metadata": {},
   "outputs": [
    {
     "data": {
      "image/png": "[encoded data removed]",
      "text/plain": [
       "<Figure size 720x720 with 1 Axes>"
      ]
     },
     "metadata": {
      "needs_background": "light"
     },
     "output_type": "display_data"
    }
   ],
   "source": [
    "plt.figure(figsize=(10,10))\n",
    "plt.imshow(node_embeddings, aspect=.8);"
   ]
  },
  {
   "cell_type": "code",
   "execution_count": 15,
   "metadata": {},
   "outputs": [],
   "source": [
    "node_colors_kmeans = KMeans(4).fit_predict(node_embeddings)"
   ]
  },
  {
   "cell_type": "code",
   "execution_count": 19,
   "metadata": {},
   "outputs": [
    {
     "data": {
      "image/png": "[encoded data removed]",
      "text/plain": [
       "<Figure size 720x720 with 1 Axes>"
      ]
     },
     "metadata": {
      "needs_background": "light"
     },
     "output_type": "display_data"
    }
   ],
   "source": [
    "order = np.argsort(node_colors_kmeans)\n",
    "\n",
    "plt.figure(figsize=(10,10))\n",
    "plt.imshow(node_embeddings[order, :], aspect=.8);\n",
    "plt.yticks(ticks = range(34), labels=node_colors_kmeans[order]);"
   ]
  },
  {
   "cell_type": "code",
   "execution_count": 20,
   "metadata": {},
   "outputs": [],
   "source": [
    "tsne = TSNE(random_state=1, perplexity=5)\n",
    "node_embeddings_xy = tsne.fit_transform(node_embeddings)"
   ]
  },
  {
   "cell_type": "code",
   "execution_count": 33,
   "metadata": {},
   "outputs": [
    {
     "data": {
      "text/plain": [
       "<matplotlib.collections.PathCollection at 0x7f1ec7082950>"
      ]
     },
     "execution_count": 33,
     "metadata": {},
     "output_type": "execute_result"
    },
    {
     "data": {
      "image/png": "[encoded data removed]",
      "text/plain": [
       "<Figure size 432x288 with 1 Axes>"
      ]
     },
     "metadata": {
      "needs_background": "light"
     },
     "output_type": "display_data"
    }
   ],
   "source": [
    "plt.scatter(node_embeddings_xy[:, 0], node_embeddings_xy[:, 1],)# c=node_colors_kmeans);"
   ]
  },
  {
   "cell_type": "markdown",
   "metadata": {},
   "source": [
    "## Compare to 2 first components of DeepWalk embedding"
   ]
  },
  {
   "cell_type": "code",
   "execution_count": 25,
   "metadata": {},
   "outputs": [
    {
     "data": {
      "text/plain": [
       "(34, 32)"
      ]
     },
     "execution_count": 25,
     "metadata": {},
     "output_type": "execute_result"
    }
   ],
   "source": [
    "node_embeddings.shape"
   ]
  },
  {
   "cell_type": "code",
   "execution_count": 32,
   "metadata": {},
   "outputs": [
    {
     "data": {
      "text/plain": [
       "<matplotlib.collections.PathCollection at 0x7f1ec744da50>"
      ]
     },
     "execution_count": 32,
     "metadata": {},
     "output_type": "execute_result"
    },
    {
     "data": {
      "image/png": "[encoded data removed]",
      "text/plain": [
       "<Figure size 864x864 with 1 Axes>"
      ]
     },
     "metadata": {
      "needs_background": "light"
     },
     "output_type": "display_data"
    }
   ],
   "source": [
    "plt.figure(figsize=(12,12))\n",
    "plt.scatter(node_embeddings[:, 1], node_embeddings[:, 2], s=150)# c=node_colors_kmeans, s=200);"
   ]
  },
  {
   "cell_type": "markdown",
   "metadata": {},
   "source": [
    "## Compare to Louvain"
   ]
  },
  {
   "cell_type": "code",
   "execution_count": 26,
   "metadata": {},
   "outputs": [],
   "source": [
    "from community import best_partition"
   ]
  },
  {
   "cell_type": "code",
   "execution_count": 27,
   "metadata": {},
   "outputs": [],
   "source": [
    "partition_louvain = np.array(list(best_partition(karate).values()))"
   ]
  },
  {
   "cell_type": "code",
   "execution_count": 28,
   "metadata": {},
   "outputs": [
    {
     "data": {
      "image/png": "[encoded data removed]",
      "text/plain": [
       "<Figure size 432x288 with 1 Axes>"
      ]
     },
     "metadata": {
      "needs_background": "light"
     },
     "output_type": "display_data"
    }
   ],
   "source": [
    "plt.scatter(node_embeddings[:, 0], node_embeddings[:, 1], c=partition_louvain);"
   ]
  },
  {
   "cell_type": "code",
   "execution_count": 29,
   "metadata": {},
   "outputs": [],
   "source": [
    "from sklearn.metrics import adjusted_rand_score"
   ]
  },
  {
   "cell_type": "code",
   "execution_count": 30,
   "metadata": {},
   "outputs": [
    {
     "data": {
      "text/plain": [
       "0.8064214002859068"
      ]
     },
     "execution_count": 30,
     "metadata": {},
     "output_type": "execute_result"
    }
   ],
   "source": [
    "adjusted_rand_score(node_colors_kmeans, partition_louvain)"
   ]
  },
  {
   "cell_type": "markdown",
   "metadata": {},
   "source": [
    "## Compare to DeepWalk with embedding size=2"
   ]
  },
  {
   "cell_type": "code",
   "execution_count": 34,
   "metadata": {},
   "outputs": [
    {
     "name": "stdout",
     "output_type": "stream",
     "text": [
      "Number of nodes: 34\r\n",
      "Number of walks: 340\r\n",
      "Data size (walks*length): 13600\r\n",
      "Walking...\r\n",
      "Training...\r\n",
      "2020-10-28 16:33:04 WARNING base_any2vec.py: 720 consider setting layer size to a multiple of 4 for greater performance\r\n"
     ]
    }
   ],
   "source": [
    "# run a deepwalk\n",
    "\n",
    "!deepwalk --representation-size 2 --format edgelist --input karate.edgelist --output karate_2.embeddings"
   ]
  },
  {
   "cell_type": "code",
   "execution_count": 35,
   "metadata": {},
   "outputs": [],
   "source": [
    "# load resulting embedding\n",
    "\n",
    "with open('karate_2.embeddings', 'r') as f:\n",
    "    # first line is a header containing `number of nodes` and `embeddings size`\n",
    "    n, m = map(int, f.readline().split())\n",
    "    node_embeddings_2 = np.zeros((n, m))\n",
    "    # remaining lines are node_id and embedding vector components\n",
    "    for line in f.readlines():   \n",
    "        node_id, *emb = line.split(' ')\n",
    "        node_embeddings_2[int(node_id)] = list(map(float, emb))"
   ]
  },
  {
   "cell_type": "code",
   "execution_count": 36,
   "metadata": {},
   "outputs": [
    {
     "data": {
      "image/png": "[encoded data removed]",
      "text/plain": [
       "<Figure size 432x288 with 1 Axes>"
      ]
     },
     "metadata": {
      "needs_background": "light"
     },
     "output_type": "display_data"
    }
   ],
   "source": [
    "plt.scatter(node_embeddings_2[:, 0], node_embeddings_2[:, 1], c=node_colors_kmeans);"
   ]
  },
  {
   "cell_type": "markdown",
   "metadata": {},
   "source": [
    "### Conclusion\n",
    "\n",
    "- To visualize networks' nodes compute DeepWalk embeddings of size 32/64/128 and apply TSNE\n"
   ]
  },
  {
   "cell_type": "markdown",
   "metadata": {},
   "source": [
    "## Compare to SpectralClustering\n",
    "\n",
    "https://arxiv.org/pdf/0711.0189.pdf"
   ]
  },
  {
   "cell_type": "code",
   "execution_count": 37,
   "metadata": {},
   "outputs": [],
   "source": [
    "# Construct unnormalized Laplacian\n",
    "\n",
    "A = np.array(nx.adj_matrix(karate).todense())\n",
    "D = np.diag(A.sum(axis=1))\n",
    "L = D - A\n",
    "L_normed = np.linalg.inv(D) @ L"
   ]
  },
  {
   "cell_type": "code",
   "execution_count": 48,
   "metadata": {},
   "outputs": [],
   "source": [
    "# Compute eigenvalues/eigenvectors of L\n",
    "\n",
    "values, vectors = np.linalg.eigh(L_normed)\n",
    "# np.allclose(values[1] * vectors[:, 1], L @ vectors[:, 1])"
   ]
  },
  {
   "cell_type": "code",
   "execution_count": null,
   "metadata": {},
   "outputs": [],
   "source": [
    "34 \n",
    "34 x 34 -> 34, 34x34\n",
    "34 x 4 "
   ]
  },
  {
   "cell_type": "code",
   "execution_count": null,
   "metadata": {},
   "outputs": [],
   "source": []
  },
  {
   "cell_type": "code",
   "execution_count": 49,
   "metadata": {},
   "outputs": [],
   "source": [
    "spectral_embedding = vectors.T"
   ]
  },
  {
   "cell_type": "code",
   "execution_count": 50,
   "metadata": {},
   "outputs": [
    {
     "data": {
      "text/plain": [
       "array([-0.8138199 ,  0.02306982,  0.20653102,  0.3458712 ,  0.39282758,\n",
       "        0.54278114,  0.61878676,  0.71784312,  0.75431835,  0.81396716,\n",
       "        0.8711699 ,  0.95385555,  1.        ,  1.        ,  1.        ,\n",
       "        1.        ,  1.        ,  1.        ,  1.        ,  1.        ,\n",
       "        1.        ,  1.        ,  1.08948364,  1.17610518,  1.20956755,\n",
       "        1.29860472,  1.30147294,  1.54002566,  1.57658134,  1.59702227,\n",
       "        1.6383949 ,  1.77990428,  1.79330501,  2.57233081])"
      ]
     },
     "execution_count": 50,
     "metadata": {},
     "output_type": "execute_result"
    }
   ],
   "source": [
    "values"
   ]
  },
  {
   "cell_type": "code",
   "execution_count": 51,
   "metadata": {},
   "outputs": [
    {
     "data": {
      "image/png": "[encoded data removed]",
      "text/plain": [
       "<Figure size 432x288 with 1 Axes>"
      ]
     },
     "metadata": {
      "needs_background": "light"
     },
     "output_type": "display_data"
    }
   ],
   "source": [
    "plt.scatter(range(34), sorted(spectral_embedding[1]));"
   ]
  },
  {
   "cell_type": "code",
   "execution_count": 52,
   "metadata": {},
   "outputs": [],
   "source": [
    "node_colors_spectral = KMeans(4).fit_predict(spectral_embedding[:, :4])"
   ]
  },
  {
   "cell_type": "code",
   "execution_count": 53,
   "metadata": {},
   "outputs": [
    {
     "data": {
      "image/png": "[encoded data removed]",
      "text/plain": [
       "<Figure size 432x288 with 1 Axes>"
      ]
     },
     "metadata": {
      "needs_background": "light"
     },
     "output_type": "display_data"
    }
   ],
   "source": [
    "plt.scatter(spectral_embedding[:, 0], spectral_embedding[:, 1], c=node_colors_spectral);"
   ]
  },
  {
   "cell_type": "code",
   "execution_count": 54,
   "metadata": {},
   "outputs": [
    {
     "data": {
      "image/png": "[encoded data removed]",
      "text/plain": [
       "<Figure size 432x288 with 1 Axes>"
      ]
     },
     "metadata": {
      "needs_background": "light"
     },
     "output_type": "display_data"
    }
   ],
   "source": [
    "plt.scatter(spectral_embedding[:, 0], spectral_embedding[:, 1], c=node_colors_kmeans);"
   ]
  },
  {
   "cell_type": "code",
   "execution_count": 55,
   "metadata": {},
   "outputs": [
    {
     "data": {
      "image/png": "[encoded data removed]",
      "text/plain": [
       "<Figure size 432x288 with 1 Axes>"
      ]
     },
     "metadata": {
      "needs_background": "light"
     },
     "output_type": "display_data"
    }
   ],
   "source": [
    "plt.scatter(spectral_embedding[:, 0], spectral_embedding[:, 1], c=partition_louvain);"
   ]
  },
  {
   "cell_type": "code",
   "execution_count": null,
   "metadata": {},
   "outputs": [],
   "source": []
  },
  {
   "cell_type": "code",
   "execution_count": null,
   "metadata": {},
   "outputs": [],
   "source": []
  },
  {
   "cell_type": "markdown",
   "metadata": {},
   "source": [
    "# Brain network example"
   ]
  },
  {
   "cell_type": "code",
   "execution_count": 47,
   "metadata": {},
   "outputs": [],
   "source": [
    "adj = np.load('../matrices', allow_pickle=True)\n",
    "centers = np.load('../node_centers', allow_pickle=True)\n",
    "\n",
    "for a in adj:\n",
    "    np.fill_diagonal(a, 0)"
   ]
  },
  {
   "cell_type": "code",
   "execution_count": 56,
   "metadata": {},
   "outputs": [
    {
     "data": {
      "text/plain": [
       "<matplotlib.image.AxesImage at 0x7f1ec742a9d0>"
      ]
     },
     "execution_count": 56,
     "metadata": {},
     "output_type": "execute_result"
    },
    {
     "data": {
      "image/png": "[encoded data removed]",
      "text/plain": [
       "<Figure size 432x288 with 1 Axes>"
      ]
     },
     "metadata": {
      "needs_background": "light"
     },
     "output_type": "display_data"
    }
   ],
   "source": [
    "plt.imshow(adj[0])"
   ]
  },
  {
   "cell_type": "code",
   "execution_count": 57,
   "metadata": {},
   "outputs": [],
   "source": [
    "edge_list = np.vstack(np.nonzero(adj[0])).T"
   ]
  },
  {
   "cell_type": "code",
   "execution_count": 58,
   "metadata": {},
   "outputs": [
    {
     "data": {
      "text/plain": [
       "array([[ 0,  2],\n",
       "       [ 0,  4],\n",
       "       [ 0,  6],\n",
       "       ...,\n",
       "       [67, 64],\n",
       "       [67, 65],\n",
       "       [67, 66]])"
      ]
     },
     "execution_count": 58,
     "metadata": {},
     "output_type": "execute_result"
    }
   ],
   "source": [
    "edge_list"
   ]
  },
  {
   "cell_type": "code",
   "execution_count": 59,
   "metadata": {},
   "outputs": [],
   "source": [
    "# store as an edgelist\n",
    "\n",
    "with open('brain.edgelist', 'w') as f:\n",
    "    for edge in edge_list:\n",
    "        f.write(f'{edge[0]} {edge[1]}\\n')"
   ]
  },
  {
   "cell_type": "code",
   "execution_count": 63,
   "metadata": {},
   "outputs": [
    {
     "name": "stdout",
     "output_type": "stream",
     "text": [
      "Number of nodes: 68\n",
      "Number of walks: 680\n",
      "Data size (walks*length): 27200\n",
      "Walking...\n",
      "Training...\n"
     ]
    }
   ],
   "source": [
    "# run a deepwalk\n",
    "\n",
    "!deepwalk --seed 41 --representation-size 32 --format edgelist --input brain.edgelist --output brain.embeddings"
   ]
  },
  {
   "cell_type": "code",
   "execution_count": 64,
   "metadata": {},
   "outputs": [],
   "source": [
    "# load resulting embedding\n",
    "\n",
    "with open('brain.embeddings', 'r') as f:\n",
    "    # first line is a header containing `number of nodes` and `embeddings size`\n",
    "    n, m = map(int, f.readline().split())\n",
    "    brain_node_embeddings = np.zeros((n, m))\n",
    "    # remaining lines are node_id and embedding vector components\n",
    "    for line in f.readlines():   \n",
    "        node_id, *emb = line.split(' ')\n",
    "        brain_node_embeddings[int(node_id)] = list(map(float, emb))"
   ]
  },
  {
   "cell_type": "code",
   "execution_count": 65,
   "metadata": {},
   "outputs": [],
   "source": [
    "c = [0]*34 + [1]*34"
   ]
  },
  {
   "cell_type": "code",
   "execution_count": 69,
   "metadata": {},
   "outputs": [],
   "source": [
    "tsne = TSNE(random_state=1, perplexity=10)\n",
    "node_embeddings_xy = tsne.fit_transform(brain_node_embeddings)"
   ]
  },
  {
   "cell_type": "code",
   "execution_count": 72,
   "metadata": {},
   "outputs": [
    {
     "data": {
      "image/png": "[encoded data removed]",
      "text/plain": [
       "<Figure size 432x288 with 1 Axes>"
      ]
     },
     "metadata": {
      "needs_background": "light"
     },
     "output_type": "display_data"
    }
   ],
   "source": [
    "plt.scatter(node_embeddings_xy[:, 0], node_embeddings_xy[:, 1], c=c);"
   ]
  },
  {
   "cell_type": "code",
   "execution_count": null,
   "metadata": {},
   "outputs": [],
   "source": []
  },
  {
   "cell_type": "markdown",
   "metadata": {},
   "source": [
    "# What is next?\n",
    "\n",
    "- Node2Vec\n",
    "- VERSE"
   ]
  },
  {
   "cell_type": "code",
   "execution_count": null,
   "metadata": {},
   "outputs": [],
   "source": []
  }
 ],
 "metadata": {
  "kernelspec": {
   "display_name": "Python 3",
   "language": "python",
   "name": "python3"
  },
  "language_info": {
   "codemirror_mode": {
    "name": "ipython",
    "version": 3
   },
   "file_extension": ".py",
   "mimetype": "text/x-python",
   "name": "python",
   "nbconvert_exporter": "python",
   "pygments_lexer": "ipython3",
   "version": "3.8.8"
  }
 },
 "nbformat": 4,
 "nbformat_minor": 4
}
