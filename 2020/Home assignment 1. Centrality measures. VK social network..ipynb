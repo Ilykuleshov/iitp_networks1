{
 "cells": [
  {
   "cell_type": "markdown",
   "metadata": {},
   "source": [
    "# 1. VK Social network analysis\n",
    "\n",
    "\n",
    "## 1.1 Download your vk friends information \n",
    "\n",
    "1. You need to get access token, go here https://vk.com/dev and create stand alone application\n",
    "    - Мои приложения\n",
    "    - Создать приложение\n",
    "    - Standalone\n",
    "\n",
    "\n",
    "2. Access token можно найти в разделе Настройки вашего приложения, вам нужен тот который `Сервисный ключ доступа`\n",
    "\n",
    "3. List of api methods https://vk.com/dev/methods\n",
    "4. We will mainly use `friends.get` and `users.get`"
   ]
  },
  {
   "cell_type": "code",
   "execution_count": 1,
   "metadata": {},
   "outputs": [],
   "source": [
    "import json\n",
    "import requests"
   ]
  },
  {
   "cell_type": "code",
   "execution_count": 2,
   "metadata": {},
   "outputs": [],
   "source": [
    "def get_friends_info(user_id, access_token, fields=None):\n",
    "    if fields is None:\n",
    "        fields = 'sex'\n",
    "    api = 'https://api.vk.com/method/'\n",
    "    friends_url = f'{api}friends.get?fields={fields}&user_id={user_id}&access_token={access_token}&v=5.21'\n",
    "\n",
    "    json_response = requests.get(friends_url).json()\n",
    "    if json_response.get('error'):\n",
    "        raise KeyError(f'Inable to access {user_id} friends.')\n",
    "\n",
    "    return json_response[u'response'], friends_url"
   ]
  },
  {
   "cell_type": "markdown",
   "metadata": {},
   "source": [
    "### Example"
   ]
  },
  {
   "cell_type": "code",
   "execution_count": 3,
   "metadata": {},
   "outputs": [],
   "source": [
    "user_id = 11986950\n",
    "fields = 'sex,city,education,bdate' # check https://vk.com/dev/users.get for all possible fields values\n",
    "access_token = 'fc892c50fc892c50fc892c5001fce4048dffc89fc892c50a3f102825ce08210ad957445' # put your token\n",
    "\n",
    "\n",
    "mates, url = get_friends_info(user_id, access_token, fields)"
   ]
  },
  {
   "cell_type": "code",
   "execution_count": 4,
   "metadata": {},
   "outputs": [
    {
     "data": {
      "text/plain": [
       "dict_keys(['count', 'items'])"
      ]
     },
     "execution_count": 4,
     "metadata": {},
     "output_type": "execute_result"
    }
   ],
   "source": [
    "mates.keys()"
   ]
  },
  {
   "cell_type": "code",
   "execution_count": 5,
   "metadata": {},
   "outputs": [
    {
     "data": {
      "text/plain": [
       "83"
      ]
     },
     "execution_count": 5,
     "metadata": {},
     "output_type": "execute_result"
    }
   ],
   "source": [
    "mates['count']"
   ]
  },
  {
   "cell_type": "code",
   "execution_count": 6,
   "metadata": {},
   "outputs": [
    {
     "data": {
      "text/plain": [
       "83"
      ]
     },
     "execution_count": 6,
     "metadata": {},
     "output_type": "execute_result"
    }
   ],
   "source": [
    "len(mates['items'])"
   ]
  },
  {
   "cell_type": "code",
   "execution_count": 7,
   "metadata": {},
   "outputs": [
    {
     "data": {
      "text/plain": [
       "{'id': 409037,\n",
       " 'first_name': 'Olga',\n",
       " 'last_name': 'Podolskaya',\n",
       " 'sex': 1,\n",
       " 'bdate': '27.10',\n",
       " 'track_code': '60e6414bo7GBXQUdY1QV4t0bp3eQ5vuAxAd9SEZWexMRu0c1GKrO2tltZh0xDBCz6tp0-mCPjJS2bg'}"
      ]
     },
     "execution_count": 7,
     "metadata": {},
     "output_type": "execute_result"
    }
   ],
   "source": [
    "mates['items'][0]"
   ]
  },
  {
   "cell_type": "markdown",
   "metadata": {},
   "source": [
    "## 1.2 Build an egocentric graph\n",
    "\n",
    "\n",
    "\n",
    "Вам нужно самостоятельно написать функцию, которая из списка ваших друзей и их друзей построит такую сеть, что:\n",
    "- каждая вершина в ней - ваш друг\n",
    "- ребро между двумя друзьями возникает только в случае если они друг у друга в друзьях\n",
    "\n",
    "Дополнительную информацию в принципе вытаскивать не обязательно, но вам может быть интересно посмотреть повышает ли одинаковый пол/возраст/школа вероятность быть друг у друга в друзьях или нет. Это называется **homophily** https://en.wikipedia.org/wiki/Network_homophily \n",
    "\n",
    "> Поскольку вам нужно будет запустить `get_friends_info` столько раз сколько у вас друзей, это может занять какое-то время, и после обработки информацию о графе лучше сохранить.\n",
    "\n",
    "Хранить такой граф удобно ввиде списка ребер, то есть таблицы с двумя колонками:\n",
    "\n",
    "| Вершина 1 | Вершина 2 |\n",
    "|---|---|\n",
    "|user_id_1| user_id_2|\n",
    "|user_id_1| user_id_3|\n",
    "|user_id_2| user_id_3|\n",
    "\n",
    "Информацию о пользователях удобно хранить в отдельной таблице:\n",
    "\n",
    "| User id | Name | Sex | Birthday |\n",
    "|---|---|---|---|\n",
    "|user_id_1| Anastasia | Female | 01.02.2003 |\n",
    "|user_id_2| Alex |Male| 21.01.1999|\n",
    "|user_id_3| Yulia|Female| 06.05.2001|\n"
   ]
  },
  {
   "cell_type": "code",
   "execution_count": null,
   "metadata": {},
   "outputs": [],
   "source": []
  },
  {
   "cell_type": "code",
   "execution_count": null,
   "metadata": {},
   "outputs": [],
   "source": []
  },
  {
   "cell_type": "markdown",
   "metadata": {},
   "source": [
    "### Networkx examples"
   ]
  },
  {
   "cell_type": "code",
   "execution_count": 8,
   "metadata": {},
   "outputs": [],
   "source": [
    "import networkx as nx\n",
    "import pandas as pd\n",
    "import numpy as np"
   ]
  },
  {
   "cell_type": "code",
   "execution_count": 9,
   "metadata": {},
   "outputs": [],
   "source": [
    "edges = [\n",
    "    (1, 2),\n",
    "    (1, 3),\n",
    "    (2, 3),\n",
    "    (4, 5),\n",
    "    (4, 6),\n",
    "    (5, 6),\n",
    "    (1, 4),\n",
    "]\n",
    "df_edges = pd.DataFrame(data=edges, columns=['source', 'target'])"
   ]
  },
  {
   "cell_type": "code",
   "execution_count": 10,
   "metadata": {},
   "outputs": [],
   "source": [
    "G = nx.from_pandas_edgelist(df_edges)"
   ]
  },
  {
   "cell_type": "code",
   "execution_count": 11,
   "metadata": {},
   "outputs": [
    {
     "data": {
      "text/plain": [
       "False"
      ]
     },
     "execution_count": 11,
     "metadata": {},
     "output_type": "execute_result"
    }
   ],
   "source": [
    "G.is_directed()"
   ]
  },
  {
   "cell_type": "code",
   "execution_count": 12,
   "metadata": {},
   "outputs": [
    {
     "data": {
      "image/png": "[encoded data removed]",
      "text/plain": [
       "<Figure size 432x288 with 1 Axes>"
      ]
     },
     "metadata": {},
     "output_type": "display_data"
    }
   ],
   "source": [
    "nx.draw(G)"
   ]
  },
  {
   "cell_type": "code",
   "execution_count": 13,
   "metadata": {},
   "outputs": [
    {
     "data": {
      "text/plain": [
       "array([[0, 1, 1, 1, 0, 0],\n",
       "       [1, 0, 1, 0, 0, 0],\n",
       "       [1, 1, 0, 0, 0, 0],\n",
       "       [1, 0, 0, 0, 1, 1],\n",
       "       [0, 0, 0, 1, 0, 1],\n",
       "       [0, 0, 0, 1, 1, 0]])"
      ]
     },
     "execution_count": 13,
     "metadata": {},
     "output_type": "execute_result"
    }
   ],
   "source": [
    "np.array(nx.adjacency_matrix(G).todense())"
   ]
  },
  {
   "cell_type": "code",
   "execution_count": 14,
   "metadata": {},
   "outputs": [
    {
     "data": {
      "image/png": "[encoded data removed]",
      "text/plain": [
       "<Figure size 432x288 with 1 Axes>"
      ]
     },
     "metadata": {},
     "output_type": "display_data"
    }
   ],
   "source": [
    "pos = nx.layout.fruchterman_reingold_layout(G)\n",
    "nx.draw(G, pos=pos)"
   ]
  },
  {
   "cell_type": "code",
   "execution_count": 15,
   "metadata": {},
   "outputs": [
    {
     "data": {
      "text/plain": [
       "{1: 0.6000000000000001, 2: 0.0, 3: 0.0, 4: 0.6000000000000001, 5: 0.0, 6: 0.0}"
      ]
     },
     "execution_count": 15,
     "metadata": {},
     "output_type": "execute_result"
    }
   ],
   "source": [
    "nx.centrality.betweenness_centrality(G)"
   ]
  },
  {
   "cell_type": "code",
   "execution_count": 16,
   "metadata": {},
   "outputs": [
    {
     "data": {
      "text/plain": [
       "{1: 0.7142857142857143, 2: 0.5, 3: 0.5, 4: 0.7142857142857143, 5: 0.5, 6: 0.5}"
      ]
     },
     "execution_count": 16,
     "metadata": {},
     "output_type": "execute_result"
    }
   ],
   "source": [
    "nx.centrality.closeness_centrality(G)"
   ]
  },
  {
   "cell_type": "code",
   "execution_count": null,
   "metadata": {},
   "outputs": [],
   "source": []
  },
  {
   "cell_type": "code",
   "execution_count": 17,
   "metadata": {},
   "outputs": [],
   "source": [
    "# with edge weight and \n",
    "\n",
    "edges = [\n",
    "    (1, 2, 5, 'siblings'),\n",
    "    (1, 3, 2, 'friends'),\n",
    "    (2, 3, 1, 'friends'),\n",
    "    (4, 5, 3, 'spouses'),\n",
    "    (4, 6, 2),\n",
    "    (5, 6, 3),\n",
    "    (1, 4, 1),\n",
    "]\n",
    "df_edges = pd.DataFrame(data=edges, columns=['source', 'target', 'weight', 'relation'])\n",
    "\n",
    "G = nx.from_pandas_edgelist(df_edges, edge_attr=['weight', 'relation'])\n",
    "\n",
    "\n",
    "edges = [\n",
    "    (1, 2),\n",
    "    (1, 3),\n",
    "    (2, 3),\n",
    "\n",
    "]\n",
    "df_edges = pd.DataFrame(data=edges, columns=['source', 'target'])"
   ]
  },
  {
   "cell_type": "code",
   "execution_count": 18,
   "metadata": {},
   "outputs": [
    {
     "data": {
      "text/plain": [
       "{'weight': 3, 'relation': 'spouses'}"
      ]
     },
     "execution_count": 18,
     "metadata": {},
     "output_type": "execute_result"
    }
   ],
   "source": [
    "G.get_edge_data(4,5)"
   ]
  },
  {
   "cell_type": "code",
   "execution_count": null,
   "metadata": {},
   "outputs": [],
   "source": []
  },
  {
   "cell_type": "code",
   "execution_count": 19,
   "metadata": {},
   "outputs": [],
   "source": [
    "# !pip install python-louvain\n",
    "# https://github.com/taynaud/python-louvain\n",
    "\n",
    "from community import best_partition"
   ]
  },
  {
   "cell_type": "code",
   "execution_count": 20,
   "metadata": {},
   "outputs": [
    {
     "name": "stdout",
     "output_type": "stream",
     "text": [
      "{1: 0, 2: 0, 3: 0, 4: 1, 5: 1, 6: 1}\n"
     ]
    }
   ],
   "source": [
    "c = best_partition(G, weight='weight')\n",
    "print(c)"
   ]
  },
  {
   "cell_type": "code",
   "execution_count": null,
   "metadata": {},
   "outputs": [],
   "source": []
  },
  {
   "cell_type": "markdown",
   "metadata": {},
   "source": [
    "### More examples https://networkx.github.io/documentation/stable/auto_examples/index.html"
   ]
  },
  {
   "cell_type": "markdown",
   "metadata": {},
   "source": [
    "## 1.3 Analyse the resulting egocentric network\n",
    "\n",
    "\n",
    "1. Analyse simple network properties: #vertices, #edges, #connected components.\n",
    "2. Plot nodes degree distribution, does power law hold for your network?\n",
    "3. Compute centrality measures for your network: degree, closeness, betweenness, eigenvector; interpret the ranking results.\n",
    "4. Using different layouts plot you network, use different node characteristics as node size/color. You could also download meta data to use it for node coloring: gender, age, city, etc.\n",
    "5. (optional) Find network communities using either igraph or community package, analyse the results."
   ]
  },
  {
   "cell_type": "code",
   "execution_count": null,
   "metadata": {},
   "outputs": [],
   "source": []
  },
  {
   "cell_type": "code",
   "execution_count": null,
   "metadata": {},
   "outputs": [],
   "source": []
  },
  {
   "cell_type": "code",
   "execution_count": null,
   "metadata": {},
   "outputs": [],
   "source": []
  },
  {
   "cell_type": "markdown",
   "metadata": {},
   "source": [
    "# 2. Random graphs models\n",
    "\n",
    "Имплементируйте модели случайных графов.\n",
    "\n",
    "- Preferential attachement (to model power law distr.)\n",
    "- Configuration model (to model degree sequence)\n",
    "- Stochastic-block model (to model community structure)\n",
    "\n",
    "Compare different model with your own network (using different characteristics), which model describe your network best?\n",
    "\n"
   ]
  },
  {
   "cell_type": "code",
   "execution_count": null,
   "metadata": {},
   "outputs": [],
   "source": []
  },
  {
   "cell_type": "code",
   "execution_count": null,
   "metadata": {},
   "outputs": [],
   "source": []
  },
  {
   "cell_type": "markdown",
   "metadata": {},
   "source": [
    "# 3. Отправка решения.\n",
    "\n",
    "\n",
    "1. Прогоните свой jupyter notebook: **Kernel** $\\rightarrow$ **Restart & Run all**, нотбук **должен** запускаться линейно!\n",
    "2. Удалите всю персональную информацию (замените access_token на пустую строку, удалите напечатанные pandas таблицы с метаданными и пр.)\n",
    "3. Назовите нотбук `Имя_Фамилия_HA1_networks_2020`, например `Anvar_Kurmukov_HA1_networks_2020`\n",
    "4. Сохраните нотбук в формате `html` и в формате `ipython`\n",
    "5. Отправьте эти два файла на почту kurmukovai@gmail.com с темой письма `Имя_Фамилия_HA1_networks_2020`.\n",
    "\n",
    "---\n",
    "\n",
    "## Комментарии к решению и выставлению оценки.\n",
    "Ваш файл с решением должно быть **комфортно читать**:\n",
    "- **комментируйте** происходящее, лучше всего для этого подходит markdown cells, но можно и в комментариях в ячейках с кодом. Под комментируйте имеется ввиду написание выводов на естественном языке доступном проверяющему (русский или английский), *например* вы напечатали список друзей отранжированных по какой-то центральности, прокоментируйте результат: кто оказался в топе, почему именно он/она?\n",
    "- не нужно оставлять в нем все 100500 графиков которые вы рисовали пока решали дз, оставьте только те которые иллюстрируют самое главное\n",
    "- не нужно оставлять все отладочные ячейки нотбука, сохраните свою работу отдельно, а в файле которые отправляете в качестве решения оставьте только нужное\n",
    "- перед прогоном уберите циклы с принтами 999 строк с какой-то информацией, *например* если вы хотите показать вершины с наибольшим значением какой-нибудь центральности, напечатайте первые 5-10, не надо печатать для всех ваших друзей\n",
    "- округляйте значения характеристик до нескольких значащих цифр (столько сколько целесообразно в каждом отдельном случае), *например* число 0.3249732, целесообразно округлить до 0.325, но если его надо сравнивать с числом 0.3249610, то до 0.324973"
   ]
  },
  {
   "cell_type": "code",
   "execution_count": null,
   "metadata": {},
   "outputs": [],
   "source": []
  }
 ],
 "metadata": {
  "kernelspec": {
   "display_name": "Python 3",
   "language": "python",
   "name": "python3"
  },
  "language_info": {
   "codemirror_mode": {
    "name": "ipython",
    "version": 3
   },
   "file_extension": ".py",
   "mimetype": "text/x-python",
   "name": "python",
   "nbconvert_exporter": "python",
   "pygments_lexer": "ipython3",
   "version": "3.8.8"
  }
 },
 "nbformat": 4,
 "nbformat_minor": 4
}
