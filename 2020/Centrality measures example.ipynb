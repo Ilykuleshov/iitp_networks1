{
 "cells": [
  {
   "cell_type": "code",
   "execution_count": 1,
   "metadata": {},
   "outputs": [],
   "source": [
    "import numpy as np\n",
    "import pandas as pd\n",
    "import networkx as nx\n",
    "\n",
    "import matplotlib.pyplot as plt\n",
    "%matplotlib inline"
   ]
  },
  {
   "cell_type": "code",
   "execution_count": 14,
   "metadata": {},
   "outputs": [],
   "source": [
    "fname = './2019/assignments/itas_2009-2017_v8.xls'\n",
    "\n",
    "itas_all = pd.read_excel(fname)\n"
   ]
  },
  {
   "cell_type": "code",
   "execution_count": 18,
   "metadata": {},
   "outputs": [
    {
     "data": {
      "text/html": [
       "<div>\n",
       "<style scoped>\n",
       "    .dataframe tbody tr th:only-of-type {\n",
       "        vertical-align: middle;\n",
       "    }\n",
       "\n",
       "    .dataframe tbody tr th {\n",
       "        vertical-align: top;\n",
       "    }\n",
       "\n",
       "    .dataframe thead th {\n",
       "        text-align: right;\n",
       "    }\n",
       "</style>\n",
       "<table border=\"1\" class=\"dataframe\">\n",
       "  <thead>\n",
       "    <tr style=\"text-align: right;\">\n",
       "      <th></th>\n",
       "      <th>title</th>\n",
       "      <th>year</th>\n",
       "      <th>author</th>\n",
       "      <th>Name</th>\n",
       "      <th>Surname</th>\n",
       "      <th>author_id_new</th>\n",
       "      <th>Gender</th>\n",
       "    </tr>\n",
       "  </thead>\n",
       "  <tbody>\n",
       "    <tr>\n",
       "      <th>304</th>\n",
       "      <td>Whole-Genome Analysis of Polymorphism in a Bde...</td>\n",
       "      <td>2016</td>\n",
       "      <td>Georgii Bazykin</td>\n",
       "      <td>Г.А.</td>\n",
       "      <td>Базыкин</td>\n",
       "      <td>Базыкин Г.А.</td>\n",
       "      <td>Male</td>\n",
       "    </tr>\n",
       "    <tr>\n",
       "      <th>524</th>\n",
       "      <td>Whole-Genome Analysis of Polymorphism in a Bde...</td>\n",
       "      <td>2016</td>\n",
       "      <td>Olga Vakhrusheva</td>\n",
       "      <td>Ольга</td>\n",
       "      <td>Вахрушева</td>\n",
       "      <td>Вахрушева Ольга</td>\n",
       "      <td>Female</td>\n",
       "    </tr>\n",
       "    <tr>\n",
       "      <th>608</th>\n",
       "      <td>Whole-Genome Analysis of Polymorphism in a Bde...</td>\n",
       "      <td>2016</td>\n",
       "      <td>Yan Galimov</td>\n",
       "      <td>Ян</td>\n",
       "      <td>Галимов</td>\n",
       "      <td>Галимов Ян</td>\n",
       "      <td>Male</td>\n",
       "    </tr>\n",
       "    <tr>\n",
       "      <th>1181</th>\n",
       "      <td>Whole-Genome Analysis of Polymorphism in a Bde...</td>\n",
       "      <td>2016</td>\n",
       "      <td>Alexey Kondrashov</td>\n",
       "      <td>А.С.</td>\n",
       "      <td>Кондрашов</td>\n",
       "      <td>Кондрашов А.С.</td>\n",
       "      <td>Male</td>\n",
       "    </tr>\n",
       "    <tr>\n",
       "      <th>1407</th>\n",
       "      <td>Whole-Genome Analysis of Polymorphism in a Bde...</td>\n",
       "      <td>2016</td>\n",
       "      <td>Maria Logacheva</td>\n",
       "      <td>Мария</td>\n",
       "      <td>Логачева</td>\n",
       "      <td>Логачева Мария</td>\n",
       "      <td>Female</td>\n",
       "    </tr>\n",
       "    <tr>\n",
       "      <th>1629</th>\n",
       "      <td>Whole-Genome Analysis of Polymorphism in a Bde...</td>\n",
       "      <td>2016</td>\n",
       "      <td>Elena Mnatsakanova</td>\n",
       "      <td>Елена</td>\n",
       "      <td>Мнацаканова</td>\n",
       "      <td>Мнацаканова Елена</td>\n",
       "      <td>Female</td>\n",
       "    </tr>\n",
       "    <tr>\n",
       "      <th>1698</th>\n",
       "      <td>Whole-Genome Analysis of Polymorphism in a Bde...</td>\n",
       "      <td>2016</td>\n",
       "      <td>Tatiana Neretina</td>\n",
       "      <td>Татьяна</td>\n",
       "      <td>Неретина</td>\n",
       "      <td>Неретина Татьяна</td>\n",
       "      <td>Female</td>\n",
       "    </tr>\n",
       "    <tr>\n",
       "      <th>1850</th>\n",
       "      <td>Whole-Genome Analysis of Polymorphism in a Bde...</td>\n",
       "      <td>2016</td>\n",
       "      <td>Aleksey Penin</td>\n",
       "      <td>Алексей</td>\n",
       "      <td>Пенин</td>\n",
       "      <td>Пенин Алексей</td>\n",
       "      <td>Male</td>\n",
       "    </tr>\n",
       "  </tbody>\n",
       "</table>\n",
       "</div>"
      ],
      "text/plain": [
       "                                                  title  year  \\\n",
       "304   Whole-Genome Analysis of Polymorphism in a Bde...  2016   \n",
       "524   Whole-Genome Analysis of Polymorphism in a Bde...  2016   \n",
       "608   Whole-Genome Analysis of Polymorphism in a Bde...  2016   \n",
       "1181  Whole-Genome Analysis of Polymorphism in a Bde...  2016   \n",
       "1407  Whole-Genome Analysis of Polymorphism in a Bde...  2016   \n",
       "1629  Whole-Genome Analysis of Polymorphism in a Bde...  2016   \n",
       "1698  Whole-Genome Analysis of Polymorphism in a Bde...  2016   \n",
       "1850  Whole-Genome Analysis of Polymorphism in a Bde...  2016   \n",
       "\n",
       "                  author     Name      Surname      author_id_new  Gender  \n",
       "304      Georgii Bazykin     Г.А.      Базыкин       Базыкин Г.А.    Male  \n",
       "524     Olga Vakhrusheva    Ольга    Вахрушева    Вахрушева Ольга  Female  \n",
       "608          Yan Galimov       Ян      Галимов         Галимов Ян    Male  \n",
       "1181   Alexey Kondrashov     А.С.    Кондрашов     Кондрашов А.С.    Male  \n",
       "1407     Maria Logacheva    Мария     Логачева     Логачева Мария  Female  \n",
       "1629  Elena Mnatsakanova    Елена  Мнацаканова  Мнацаканова Елена  Female  \n",
       "1698    Tatiana Neretina  Татьяна     Неретина   Неретина Татьяна  Female  \n",
       "1850       Aleksey Penin  Алексей        Пенин      Пенин Алексей    Male  "
      ]
     },
     "execution_count": 18,
     "metadata": {},
     "output_type": "execute_result"
    }
   ],
   "source": [
    "itas_all.query('title == \"Whole-Genome Analysis of Polymorphism in a Bdelloid Rotifer Adineta vaga\"')"
   ]
  },
  {
   "cell_type": "code",
   "execution_count": 25,
   "metadata": {},
   "outputs": [],
   "source": [
    "title_author = itas_all.groupby(by=['title', 'author_id_new']).count().reset_index()\n",
    "authors, titles = title_author.title, title_author.author_id_new\n",
    "inc_table = pd.crosstab(authors, titles)\n",
    "adjacency_matrix = inc_table.values.dot(inc_table.values.T)\n",
    "n_papers = np.diag(adjacency_matrix)\n",
    "np.fill_diagonal(adjacency_matrix, 0)\n",
    "\n",
    "authors = inc_table.columns\n",
    "titles = inc_table.index\n",
    "nx_graph = nx.Graph(adjacency_matrix)"
   ]
  },
  {
   "cell_type": "code",
   "execution_count": 27,
   "metadata": {},
   "outputs": [
    {
     "data": {
      "text/plain": [
       "Базыкин Г.А.        53\n",
       "Хоров Евгений       52\n",
       "Миронов Андрей      44\n",
       "Зяблов В.В.         33\n",
       "Николаев Дмитрий    32\n",
       "                    ..\n",
       "Петрашко Д.И.        1\n",
       "Мовсесян Андрей      1\n",
       "Lima Emanuel         1\n",
       "Зигангиров К.Ш.      1\n",
       "Голобородко А.       1\n",
       "Name: author_id_new, Length: 1068, dtype: int64"
      ]
     },
     "execution_count": 27,
     "metadata": {},
     "output_type": "execute_result"
    }
   ],
   "source": [
    "itas_all.author_id_new.value_counts()"
   ]
  },
  {
   "cell_type": "code",
   "execution_count": 28,
   "metadata": {},
   "outputs": [
    {
     "data": {
      "text/plain": [
       "(1064, 1068)"
      ]
     },
     "execution_count": 28,
     "metadata": {},
     "output_type": "execute_result"
    }
   ],
   "source": [
    "inc_table.shape"
   ]
  },
  {
   "cell_type": "code",
   "execution_count": 20,
   "metadata": {},
   "outputs": [
    {
     "data": {
      "text/plain": [
       "(1064, 1064)"
      ]
     },
     "execution_count": 20,
     "metadata": {},
     "output_type": "execute_result"
    }
   ],
   "source": [
    "adjacency_matrix.shape"
   ]
  },
  {
   "cell_type": "code",
   "execution_count": 29,
   "metadata": {},
   "outputs": [],
   "source": [
    "import networkx as nx"
   ]
  },
  {
   "cell_type": "code",
   "execution_count": null,
   "metadata": {},
   "outputs": [],
   "source": [
    "nx_graph = nx.Graph(adjacency_matrix)"
   ]
  },
  {
   "cell_type": "code",
   "execution_count": 3,
   "metadata": {},
   "outputs": [],
   "source": [
    "dgr = nx.degree_centrality(nx_graph)"
   ]
  },
  {
   "cell_type": "code",
   "execution_count": 4,
   "metadata": {},
   "outputs": [],
   "source": [
    "btw = nx.betweenness_centrality(nx_graph)"
   ]
  },
  {
   "cell_type": "code",
   "execution_count": 5,
   "metadata": {},
   "outputs": [],
   "source": [
    "hrm = nx.harmonic_centrality(nx_graph)"
   ]
  },
  {
   "cell_type": "code",
   "execution_count": 6,
   "metadata": {},
   "outputs": [],
   "source": [
    "cls = nx.closeness_centrality(nx_graph)"
   ]
  },
  {
   "cell_type": "code",
   "execution_count": 7,
   "metadata": {},
   "outputs": [],
   "source": [
    "pgr = nx.pagerank(nx_graph)"
   ]
  },
  {
   "cell_type": "code",
   "execution_count": 8,
   "metadata": {},
   "outputs": [],
   "source": [
    "eig = nx.eigenvector_centrality(nx_graph, max_iter=100, tol=1e-3)"
   ]
  },
  {
   "cell_type": "code",
   "execution_count": 13,
   "metadata": {},
   "outputs": [
    {
     "data": {
      "text/plain": [
       "3.1622776601683795e-05"
      ]
     },
     "execution_count": 13,
     "metadata": {},
     "output_type": "execute_result"
    }
   ],
   "source": [
    "1000000 ** (-3/4)"
   ]
  },
  {
   "cell_type": "code",
   "execution_count": 30,
   "metadata": {},
   "outputs": [
    {
     "data": {
      "text/plain": [
       "<networkx.classes.graph.Graph at 0x7f67afff3e50>"
      ]
     },
     "execution_count": 30,
     "metadata": {},
     "output_type": "execute_result"
    }
   ],
   "source": [
    "nx_graph"
   ]
  },
  {
   "cell_type": "code",
   "execution_count": null,
   "metadata": {},
   "outputs": [],
   "source": []
  }
 ],
 "metadata": {
  "kernelspec": {
   "display_name": "Python 3",
   "language": "python",
   "name": "python3"
  },
  "language_info": {
   "codemirror_mode": {
    "name": "ipython",
    "version": 3
   },
   "file_extension": ".py",
   "mimetype": "text/x-python",
   "name": "python",
   "nbconvert_exporter": "python",
   "pygments_lexer": "ipython3",
   "version": "3.7.9"
  }
 },
 "nbformat": 4,
 "nbformat_minor": 4
}
