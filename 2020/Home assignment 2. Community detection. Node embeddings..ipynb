{
 "cells": [
  {
   "cell_type": "markdown",
   "metadata": {},
   "source": [
    "# Community detection using Spectral Clustering\n",
    "\n",
    "Given graph $G$ with $n$ nodes, find non-overlapping node \"communities\": $k$ groups of nodes that are densely intra connected and have low number of inter connections.\n",
    "\n",
    "- Compute square diagonal matrix of node degrees $D$. \n",
    "    $$D_{ii} = \\sum_i A_{ij}, D_{ij} = 0, i \\neq j$$\n",
    "- Construct graph Laplacian \n",
    "    $$L_{unnormed} = D - A$$\n",
    "Find $0 = \\lambda_0 \\leq \\lambda_1 \\leq \\lambda_2 \\leq \\ldots \\leq \\lambda_m$ smallest eigenvalues of $L$ and construct matrix $X$ by stacking $m$ corresponding eigenvectors ($v_1, \\ldots v_m$) as columns of $X$. Matrix $X$ has size $n \\times m$, its rows are \"spectral representaion\" of graph nodes.\n",
    "   \n",
    "- Run k-means algorithm on matrix X and assign nodes with labels obtained by k-means.\n",
    "\n",
    "---\n",
    "\n",
    "Use 3 versions of a Laplacian:\n",
    "\n",
    "- Unnormalized Laplacian: $L = D - A$\n",
    "- Symmetric normalization: $L_{sym} = I - D^{-\\frac{1}{2}} \\cdot A \\cdot D^{-\\frac{1}{2}}$\n",
    "- Random Walk normalization: $L_{rw} = I - D^{-1} \\cdot A$\n",
    "    \n",
    "Sources:\n",
    "1. Andrew Ng paper on spectral clustering https://ai.stanford.edu/~ang/papers/nips01-spectral.pdf\n",
    "2. Tutorial on spectral clustering with multiple theoretical views on the problem https://arxiv.org/abs/0711.0189\n",
    "3. Amazing explanation from James R. Lee https://www.youtube.com/watch?v=8XJes6XFjxM"
   ]
  },
  {
   "cell_type": "markdown",
   "metadata": {},
   "source": [
    "## 1. Compare 3 versions of Spectral clustering on `Karate Club dataset`\n",
    "    \n",
    "Implement 3 algorithms described in https://arxiv.org/abs/0711.0189 :\n",
    "1. Unnormalized spectral clustering \n",
    "2. Normalized spectral clustering according to Shi and Malik (2000)\n",
    "3. Normalized spectral clustering according to Ng, Jordan, and Weiss (2002)\n",
    "\n",
    "using `Adjusted Rand Index` (3 pairwise comparisons), `Modularity` (3 numbers) and visually, plotting points in a corresponding 2 dimensional spaces (spanned by eigenvectors).\n",
    "\n",
    "Theoretical questions:\n",
    "4. Why does the smallest eigenvalue of unnormalized Laplacian is always equal to 0? \n",
    "5. From network point of view, what does Symmetric normalization do? \n",
    "6. Under what conditions Symmetric and Random walk normalizations yield the same result? \n",
    "  "
   ]
  },
  {
   "cell_type": "code",
   "execution_count": null,
   "metadata": {},
   "outputs": [],
   "source": []
  },
  {
   "cell_type": "code",
   "execution_count": null,
   "metadata": {},
   "outputs": [],
   "source": []
  },
  {
   "cell_type": "markdown",
   "metadata": {},
   "source": [
    "# Unsupervised node prediction\n",
    "\n",
    "## 2. Random Walk based embeddings\n",
    "\n",
    "Use data from https://github.com/shchur/gnn-benchmark/tree/master/data/npz , particulary use Amazon Computers dataset, see description in a corresponding paper https://arxiv.org/pdf/1811.05868.pdf. \n",
    "> Recall that this network has small amount of isolated nodes.\n",
    "\n",
    "1. Run `DeepWalk` to get embeddings of size 32.\n",
    "2. Using `kmeans` with appropriate number of clusters (somewhere between 6 and 12) compute node labels. Compare the result with ground truth communities using `adjusted_rand_index`. Compute corresponding `Modularities`.\n",
    "3. Run your favourite dimensionality reduction algorithm to get a 2 dimensional embedding.\n",
    "4. Compare results (repeate 1-3) with embeddings of size 64 and 128.\n",
    "5. Compare results with supervised Logistic Regression on data feature matrix (without using network data).\n",
    "\n",
    "\n",
    "Recommended for visualization:\n",
    "\n",
    "- Dmitry Ulyanov has nice multicore tsne implementation https://github.com/DmitryUlyanov/Multicore-TSNE\n",
    "- Recent paper from Aleksandr Artemenkov and Maxim Panov https://arxiv.org/pdf/2001.11411.pdf with implementation https://github.com/alartum/ncvis . Reported to be superior to TSNE for the purpose of 2 dimensional visualization."
   ]
  },
  {
   "cell_type": "code",
   "execution_count": 1,
   "metadata": {},
   "outputs": [],
   "source": [
    "import numpy as np"
   ]
  },
  {
   "cell_type": "code",
   "execution_count": 2,
   "metadata": {},
   "outputs": [],
   "source": [
    "def load_npz_to_sparse_graph(file_name):\n",
    "    \"\"\"Load a SparseGraph from a Numpy binary file.\n",
    "    from https://github.com/shchur/gnn-benchmark/blob/master/gnnbench/data/io.py\n",
    "    \"\"\"\n",
    "    from scipy.sparse import csr_matrix\n",
    "    with np.load(file_name) as loader:\n",
    "        loader = dict(loader)\n",
    "        adj_matrix = csr_matrix((loader['adj_data'], loader['adj_indices'], loader['adj_indptr']),\n",
    "                                   shape=loader['adj_shape'])\n",
    "        attr_matrix = csr_matrix((loader['attr_data'], loader['attr_indices'], loader['attr_indptr']),\n",
    "                                        shape=loader['attr_shape'])\n",
    "        labels = loader['labels']\n",
    "        class_names = loader.get('class_names')\n",
    "\n",
    "    return adj_matrix, attr_matrix, labels, class_names"
   ]
  },
  {
   "cell_type": "code",
   "execution_count": 3,
   "metadata": {},
   "outputs": [],
   "source": [
    "adj, X, y, class_names = load_npz_to_sparse_graph('amazon_electronics_computers.npz')"
   ]
  },
  {
   "cell_type": "code",
   "execution_count": 4,
   "metadata": {},
   "outputs": [
    {
     "data": {
      "text/plain": [
       "(13752, 13752)"
      ]
     },
     "execution_count": 4,
     "metadata": {},
     "output_type": "execute_result"
    }
   ],
   "source": [
    "adj.todense().shape"
   ]
  },
  {
   "cell_type": "code",
   "execution_count": null,
   "metadata": {},
   "outputs": [],
   "source": []
  },
  {
   "cell_type": "markdown",
   "metadata": {},
   "source": [
    "# 3. Отправка решения.\n",
    "\n",
    "\n",
    "1. Прогоните свой jupyter notebook: **Kernel** $\\rightarrow$ **Restart & Run all**, нотбук **должен** запускаться линейно! Если вы считали эмбединги прямо в нотбуке, можете закоментить соответствующие ячейки. Во втором домашнем задании я **буду** снижать оценку если вы не сделали Restart & Run All.\n",
    "2. Назовите нотбук `Имя_Фамилия_HA2_networks_2020`, например `Anvar_Kurmukov_HA2_networks_2020`\n",
    "4. Сохраните нотбук в формате `ipython`.\n",
    "5. Отправьте файл с нотбуком на почту kurmukovai@gmail.com с темой письма `Имя_Фамилия_HA2_networks_2020`.\n",
    "\n",
    "---\n",
    "\n",
    "## Комментарии к решению и выставлению оценки.\n",
    "Ваш файл с решением должно быть **комфортно читать**:\n",
    "- **комментируйте** происходящее, лучше всего для этого подходит markdown cells, но можно и в комментариях в ячейках с кодом. Под комментируйте имеется ввиду написание выводов на естественном языке доступном проверяющему (русский или английский). Например, вы нарисовали двумерное вложение и на картинке ничего не понятно, все смешано, это нормально (хотя во втором пункте можно получить более менее неплохое вложение), так и напишите \"Не получилось построить...\".\n",
    "- не нужно оставлять все отладочные ячейки нотбука, сохраните свою работу отдельно, а в файле которые отправляете в качестве решения оставьте только нужное.\n",
    "- **округляйте** значения характеристик точности и модулярности до нескольких значащих цифр (столько сколько целесообразно в каждом отдельном случае), но не более 6."
   ]
  },
  {
   "cell_type": "code",
   "execution_count": null,
   "metadata": {},
   "outputs": [],
   "source": []
  }
 ],
 "metadata": {
  "kernelspec": {
   "display_name": "Python 3",
   "language": "python",
   "name": "python3"
  },
  "language_info": {
   "codemirror_mode": {
    "name": "ipython",
    "version": 3
   },
   "file_extension": ".py",
   "mimetype": "text/x-python",
   "name": "python",
   "nbconvert_exporter": "python",
   "pygments_lexer": "ipython3",
   "version": "3.7.9"
  }
 },
 "nbformat": 4,
 "nbformat_minor": 4
}
